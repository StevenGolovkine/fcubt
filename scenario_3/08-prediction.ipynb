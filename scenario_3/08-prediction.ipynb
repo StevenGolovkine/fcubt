{
 "cells": [
  {
   "cell_type": "code",
   "execution_count": 1,
   "metadata": {},
   "outputs": [],
   "source": [
    "# Load packages\n",
    "import matplotlib.pyplot as plt\n",
    "import numpy as np\n",
    "import pickle\n",
    "\n",
    "from FDApy.preprocessing.dim_reduction.fpca import MFPCA\n",
    "from FDApy.representation.functional_data import MultivariateFunctionalData\n",
    "from FDApy.clustering.fcubt import Node, FCUBT\n",
    "\n",
    "from sklearn.metrics import adjusted_rand_score\n",
    "from sklearn.model_selection import train_test_split\n",
    "from sklearn.utils import shuffle"
   ]
  },
  {
   "cell_type": "code",
   "execution_count": 2,
   "metadata": {},
   "outputs": [],
   "source": [
    "# Load data\n",
    "with open('./data/scenario_3_smooth.pkl', 'rb') as f:\n",
    "    data_fd = pickle.load(f)\n",
    "with open('./data/labels.pkl', 'rb') as f:\n",
    "    labels = pickle.load(f)"
   ]
  },
  {
   "cell_type": "code",
   "execution_count": 3,
   "metadata": {},
   "outputs": [],
   "source": [
    "# Split data into train/test set\n",
    "x = np.arange(data_fd.n_obs)\n",
    "np.random.shuffle(x)\n",
    "\n",
    "data_shuffle = [data[x] for data in data_fd]\n",
    "labels_shuffle = labels[x]\n",
    "new_data = MultivariateFunctionalData(data_shuffle)\n",
    "\n",
    "pct = 0.33\n",
    "s = int(np.ceil((1 - pct) * new_data.n_obs))\n",
    "train = MultivariateFunctionalData([data[:s] for data in new_data])\n",
    "test = MultivariateFunctionalData([data[s:] for data in new_data])\n",
    "labels_train = labels_shuffle[:s]\n",
    "labels_test = labels_shuffle[s:]"
   ]
  },
  {
   "cell_type": "markdown",
   "metadata": {},
   "source": [
    "## fCUBT clustering"
   ]
  },
  {
   "cell_type": "code",
   "execution_count": 4,
   "metadata": {},
   "outputs": [],
   "source": [
    "# Initialization of the tree\n",
    "root_node = Node(train, is_root=True)\n",
    "fcubt = FCUBT(root_node=root_node)"
   ]
  },
  {
   "cell_type": "code",
   "execution_count": 5,
   "metadata": {},
   "outputs": [],
   "source": [
    "# Fit the tree\n",
    "fcubt.grow(n_components=[0.95, 0.95])\n",
    "fcubt.join(n_components=[0.95, 0.95])"
   ]
  },
  {
   "cell_type": "markdown",
   "metadata": {},
   "source": [
    "## Prediction on the test set"
   ]
  },
  {
   "cell_type": "code",
   "execution_count": 6,
   "metadata": {},
   "outputs": [],
   "source": [
    "# Perform the prediction on the test set\n",
    "pred_test = fcubt.predict(test, step='join')"
   ]
  },
  {
   "cell_type": "code",
   "execution_count": 7,
   "metadata": {
    "scrolled": true
   },
   "outputs": [],
   "source": [
    "res = []\n",
    "for idx in range(1, len(pred_test) + 1):\n",
    "    res.append(adjusted_rand_score(labels_test[:idx], pred_test[:idx]))"
   ]
  },
  {
   "cell_type": "code",
   "execution_count": 8,
   "metadata": {},
   "outputs": [
    {
     "data": {
      "image/png": "[encoded data removed]",
      "text/plain": [
       "<Figure size 432x288 with 1 Axes>"
      ]
     },
     "metadata": {},
     "output_type": "display_data"
    }
   ],
   "source": [
    "# Plot the results\n",
    "plt.plot(res)\n",
    "plt.ylabel('ARI', size=16)\n",
    "plt.xlabel('Size of the online dataset', size=16)\n",
    "_ = plt.show()"
   ]
  }
 ],
 "metadata": {
  "kernelspec": {
   "display_name": "Python 3",
   "language": "python",
   "name": "python3"
  },
  "language_info": {
   "codemirror_mode": {
    "name": "ipython",
    "version": 3
   },
   "file_extension": ".py",
   "mimetype": "text/x-python",
   "name": "python",
   "nbconvert_exporter": "python",
   "pygments_lexer": "ipython3",
   "version": "3.7.0"
  },
  "varInspector": {
   "cols": {
    "lenName": 16,
    "lenType": 16,
    "lenVar": 40
   },
   "kernels_config": {
    "python": {
     "delete_cmd_postfix": "",
     "delete_cmd_prefix": "del ",
     "library": "var_list.py",
     "varRefreshCmd": "print(var_dic_list())"
    },
    "r": {
     "delete_cmd_postfix": ") ",
     "delete_cmd_prefix": "rm(",
     "library": "var_list.r",
     "varRefreshCmd": "cat(var_dic_list()) "
    }
   },
   "types_to_exclude": [
    "module",
    "function",
    "builtin_function_or_method",
    "instance",
    "_Feature"
   ],
   "window_display": false
  }
 },
 "nbformat": 4,
 "nbformat_minor": 2
}
