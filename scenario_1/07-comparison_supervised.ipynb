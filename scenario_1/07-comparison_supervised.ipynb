{
 "cells": [
  {
   "cell_type": "code",
   "execution_count": 1,
   "metadata": {},
   "outputs": [],
   "source": [
    "# Load packages\n",
    "import pickle\n",
    "\n",
    "from FDApy.preprocessing.dim_reduction.fpca import UFPCA\n",
    "from FDApy.representation.functional_data import DenseFunctionalData\n",
    "from FDApy.clustering.fcubt import Node, FCUBT\n",
    "\n",
    "from sklearn.gaussian_process import GaussianProcessClassifier\n",
    "from sklearn.gaussian_process.kernels import RBF\n",
    "from sklearn.metrics import adjusted_rand_score\n",
    "from sklearn.model_selection import train_test_split\n",
    "from sklearn.ensemble import RandomForestClassifier\n",
    "from sklearn.utils import shuffle"
   ]
  },
  {
   "cell_type": "code",
   "execution_count": 2,
   "metadata": {},
   "outputs": [],
   "source": [
    "# Load data\n",
    "with open('./data/scenario_1.pkl', 'rb') as f:\n",
    "    data_fd = pickle.load(f)\n",
    "with open('./data/labels.pkl', 'rb') as f:\n",
    "    labels = pickle.load(f)"
   ]
  },
  {
   "cell_type": "code",
   "execution_count": 3,
   "metadata": {},
   "outputs": [],
   "source": [
    "# Split data into train/test set\n",
    "values, new_labels = shuffle(data_fd.values, labels, random_state=42)\n",
    "\n",
    "X_train, X_test, y_train, y_test = train_test_split(values, new_labels, test_size=0.33, random_state=42)\n",
    "\n",
    "data_train = DenseFunctionalData(data_fd.argvals, X_train)\n",
    "data_test = DenseFunctionalData(data_fd.argvals, X_test)"
   ]
  },
  {
   "cell_type": "markdown",
   "metadata": {},
   "source": [
    "## Perform UFPCA"
   ]
  },
  {
   "cell_type": "code",
   "execution_count": 4,
   "metadata": {},
   "outputs": [],
   "source": [
    "# Do UFPCA on the data\n",
    "fpca = UFPCA(n_components=0.99)\n",
    "fpca.fit(data_train, method='GAM')\n",
    "    \n",
    "# Compute scores\n",
    "train_proj = fpca.transform(data_train, method='NumInt')\n",
    "test_proj = fpca.transform(data_test, method='NumInt')"
   ]
  },
  {
   "cell_type": "markdown",
   "metadata": {},
   "source": [
    "## Classification using GaussianProcessClassifier"
   ]
  },
  {
   "cell_type": "code",
   "execution_count": 5,
   "metadata": {},
   "outputs": [
    {
     "data": {
      "text/plain": [
       "GaussianProcessClassifier(kernel=1**2 * RBF(length_scale=1))"
      ]
     },
     "execution_count": 5,
     "metadata": {},
     "output_type": "execute_result"
    }
   ],
   "source": [
    "# Fit GPC\n",
    "gp = GaussianProcessClassifier(1.0 * RBF(1.0))\n",
    "gp.fit(train_proj, y_train)"
   ]
  },
  {
   "cell_type": "code",
   "execution_count": 6,
   "metadata": {},
   "outputs": [],
   "source": [
    "# Prediction for GPC\n",
    "pred_gpc = gp.predict(test_proj)"
   ]
  },
  {
   "cell_type": "markdown",
   "metadata": {},
   "source": [
    "## CART classification"
   ]
  },
  {
   "cell_type": "code",
   "execution_count": 7,
   "metadata": {},
   "outputs": [
    {
     "data": {
      "text/plain": [
       "RandomForestClassifier()"
      ]
     },
     "execution_count": 7,
     "metadata": {},
     "output_type": "execute_result"
    }
   ],
   "source": [
    "# Fit CART\n",
    "clf = RandomForestClassifier()\n",
    "clf.fit(train_proj, y_train)"
   ]
  },
  {
   "cell_type": "code",
   "execution_count": 8,
   "metadata": {},
   "outputs": [],
   "source": [
    "# Prediction for CART\n",
    "pred_cart = clf.predict(test_proj)"
   ]
  },
  {
   "cell_type": "markdown",
   "metadata": {},
   "source": [
    "## fCUBT clustering"
   ]
  },
  {
   "cell_type": "code",
   "execution_count": 9,
   "metadata": {},
   "outputs": [],
   "source": [
    "# Initialization of the tree\n",
    "root_node = Node(data_test, is_root=True)\n",
    "fcubt = FCUBT(root_node=root_node)"
   ]
  },
  {
   "cell_type": "code",
   "execution_count": 10,
   "metadata": {},
   "outputs": [],
   "source": [
    "# Grow and join the tree\n",
    "fcubt.grow(n_components=0.95)\n",
    "fcubt.join(n_components=0.95)"
   ]
  },
  {
   "cell_type": "markdown",
   "metadata": {},
   "source": [
    "## Results"
   ]
  },
  {
   "cell_type": "code",
   "execution_count": 11,
   "metadata": {},
   "outputs": [
    {
     "name": "stdout",
     "output_type": "stream",
     "text": [
      "Adjusted Rand Index for FCUBT: 0.8655359514871155\n",
      "Adjusted Rand Index for GPC: 0.7882195738695846\n",
      "Adjusted Rand Index for CART: 0.8249880264941892\n"
     ]
    }
   ],
   "source": [
    "print(f'Adjusted Rand Index for FCUBT: {adjusted_rand_score(y_test, fcubt.labels_join)}')\n",
    "print(f'Adjusted Rand Index for GPC: {adjusted_rand_score(y_test, pred_gpc)}')\n",
    "print(f'Adjusted Rand Index for CART: {adjusted_rand_score(y_test, pred_cart)}')"
   ]
  }
 ],
 "metadata": {
  "kernelspec": {
   "display_name": "Python 3 (ipykernel)",
   "language": "python",
   "name": "python3"
  },
  "language_info": {
   "codemirror_mode": {
    "name": "ipython",
    "version": 3
   },
   "file_extension": ".py",
   "mimetype": "text/x-python",
   "name": "python",
   "nbconvert_exporter": "python",
   "pygments_lexer": "ipython3",
   "version": "3.9.6"
  },
  "varInspector": {
   "cols": {
    "lenName": 16,
    "lenType": 16,
    "lenVar": 40
   },
   "kernels_config": {
    "python": {
     "delete_cmd_postfix": "",
     "delete_cmd_prefix": "del ",
     "library": "var_list.py",
     "varRefreshCmd": "print(var_dic_list())"
    },
    "r": {
     "delete_cmd_postfix": ") ",
     "delete_cmd_prefix": "rm(",
     "library": "var_list.r",
     "varRefreshCmd": "cat(var_dic_list()) "
    }
   },
   "types_to_exclude": [
    "module",
    "function",
    "builtin_function_or_method",
    "instance",
    "_Feature"
   ],
   "window_display": false
  }
 },
 "nbformat": 4,
 "nbformat_minor": 2
}
