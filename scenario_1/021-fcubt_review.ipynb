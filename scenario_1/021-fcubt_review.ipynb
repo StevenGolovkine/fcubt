{
 "cells": [
  {
   "cell_type": "markdown",
   "metadata": {},
   "source": [
    "# Perform fCUBT on the data"
   ]
  },
  {
   "cell_type": "code",
   "execution_count": 1,
   "metadata": {},
   "outputs": [],
   "source": [
    "# Load packages\n",
    "import matplotlib\n",
    "import matplotlib.pyplot as plt\n",
    "import pickle\n",
    "\n",
    "from FDApy.clustering.fcubt import Node, FCUBT\n",
    "from FDApy.representation.functional_data import DenseFunctionalData\n",
    "from FDApy.preprocessing.dim_reduction.fpca import UFPCA\n",
    "\n",
    "from matplotlib import colors as mcolors\n",
    "COLORS = ['#377eb8', '#ff7f00', '#4daf4a',\n",
    "          '#f781bf', '#a65628', '#984ea3',\n",
    "          '#999999', '#e41a1c', '#dede00']\n",
    "\n",
    "#matplotlib.use(\"pgf\")\n",
    "matplotlib.rcParams.update({\n",
    "    \"pgf.texsystem\": \"pdflatex\",\n",
    "    'font.family': 'serif',\n",
    "    'text.usetex': True,\n",
    "    'pgf.rcfonts': False,\n",
    "})"
   ]
  },
  {
   "cell_type": "code",
   "execution_count": 2,
   "metadata": {},
   "outputs": [],
   "source": [
    "# Load data\n",
    "with open('./data/scenario_1_review.pkl', 'rb') as f:\n",
    "    data_fd = pickle.load(f)\n",
    "with open('./data/labels_review.pkl', 'rb') as f:\n",
    "    labels = pickle.load(f)"
   ]
  },
  {
   "cell_type": "code",
   "execution_count": 3,
   "metadata": {},
   "outputs": [],
   "source": [
    "# Do UFPCA on the data\n",
    "fpca = UFPCA(n_components=0.99)\n",
    "fpca.fit(data_fd, method='GAM')\n",
    "    \n",
    "# Compute scores\n",
    "simu_proj = fpca.transform(data_fd, method='NumInt')"
   ]
  },
  {
   "cell_type": "code",
   "execution_count": 4,
   "metadata": {},
   "outputs": [
    {
     "data": {
      "image/png": "[encoded data removed]",
      "text/plain": [
       "<Figure size 432x288 with 1 Axes>"
      ]
     },
     "metadata": {
      "needs_background": "light"
     },
     "output_type": "display_data"
    }
   ],
   "source": [
    "plt.scatter(simu_proj[:, 0], simu_proj[:, 1], c=labels)\n",
    "plt.show()"
   ]
  },
  {
   "cell_type": "code",
   "execution_count": 5,
   "metadata": {},
   "outputs": [],
   "source": [
    "# Build the tree\n",
    "root_node = Node(data_fd, is_root=True)\n",
    "fcubt = FCUBT(root_node=root_node)"
   ]
  },
  {
   "cell_type": "code",
   "execution_count": 6,
   "metadata": {},
   "outputs": [],
   "source": [
    "# Growing\n",
    "fcubt.grow(n_components=0.95, min_size=10)"
   ]
  },
  {
   "cell_type": "code",
   "execution_count": 7,
   "metadata": {},
   "outputs": [
    {
     "data": {
      "text/plain": [
       "{Node(id=(2, 0), is_root=False, is_leaf=True): 0,\n",
       " Node(id=(2, 1), is_root=False, is_leaf=True): 1,\n",
       " Node(id=(3, 5), is_root=False, is_leaf=True): 2,\n",
       " Node(id=(3, 6), is_root=False, is_leaf=True): 3,\n",
       " Node(id=(4, 8), is_root=False, is_leaf=True): 4,\n",
       " Node(id=(4, 9), is_root=False, is_leaf=True): 5,\n",
       " Node(id=(4, 14), is_root=False, is_leaf=True): 6,\n",
       " Node(id=(4, 15), is_root=False, is_leaf=True): 7}"
      ]
     },
     "execution_count": 7,
     "metadata": {},
     "output_type": "execute_result"
    }
   ],
   "source": [
    "fcubt.mapping_grow"
   ]
  },
  {
   "cell_type": "code",
   "execution_count": 8,
   "metadata": {},
   "outputs": [],
   "source": [
    "# Joining\n",
    "fcubt.join(n_components=0.95)"
   ]
  },
  {
   "cell_type": "code",
   "execution_count": 9,
   "metadata": {},
   "outputs": [
    {
     "data": {
      "text/plain": [
       "{Node(id=(2, 0), is_root=False, is_leaf=True): 0,\n",
       " Node(id=(2, 1), is_root=False, is_leaf=True): 1,\n",
       " Node(id=(3, 6), is_root=False, is_leaf=True): 2,\n",
       " Node(id=(4, 14), is_root=False, is_leaf=True): 3,\n",
       " Node(id=[(4, 9), (4, 15)], is_root=False, is_leaf=True): 4,\n",
       " Node(id=[(3, 5), (4, 8)], is_root=False, is_leaf=True): 5}"
      ]
     },
     "execution_count": 9,
     "metadata": {},
     "output_type": "execute_result"
    }
   ],
   "source": [
    "fcubt.mapping_join"
   ]
  }
 ],
 "metadata": {
  "kernelspec": {
   "display_name": "Python 3 (ipykernel)",
   "language": "python",
   "name": "python3"
  },
  "language_info": {
   "codemirror_mode": {
    "name": "ipython",
    "version": 3
   },
   "file_extension": ".py",
   "mimetype": "text/x-python",
   "name": "python",
   "nbconvert_exporter": "python",
   "pygments_lexer": "ipython3",
   "version": "3.9.6"
  },
  "varInspector": {
   "cols": {
    "lenName": 16,
    "lenType": 16,
    "lenVar": 40
   },
   "kernels_config": {
    "python": {
     "delete_cmd_postfix": "",
     "delete_cmd_prefix": "del ",
     "library": "var_list.py",
     "varRefreshCmd": "print(var_dic_list())"
    },
    "r": {
     "delete_cmd_postfix": ") ",
     "delete_cmd_prefix": "rm(",
     "library": "var_list.r",
     "varRefreshCmd": "cat(var_dic_list()) "
    }
   },
   "types_to_exclude": [
    "module",
    "function",
    "builtin_function_or_method",
    "instance",
    "_Feature"
   ],
   "window_display": false
  }
 },
 "nbformat": 4,
 "nbformat_minor": 2
}
