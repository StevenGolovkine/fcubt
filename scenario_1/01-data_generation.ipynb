{
 "cells": [
  {
   "cell_type": "markdown",
   "metadata": {},
   "source": [
    "# Generation of the data"
   ]
  },
  {
   "cell_type": "code",
   "execution_count": 1,
   "metadata": {},
   "outputs": [],
   "source": [
    "# Load packages\n",
    "import numpy as np\n",
    "import pickle\n",
    "\n",
    "from FDApy.representation.simulation import KarhunenLoeve\n",
    "from FDApy.representation.functional_data import DenseFunctionalData"
   ]
  },
  {
   "cell_type": "code",
   "execution_count": 2,
   "metadata": {},
   "outputs": [],
   "source": [
    "# Define parameters of the simulation\n",
    "N = 300\n",
    "n_features = 3\n",
    "n_clusters = 2\n",
    "centers = np.array([[0, 0], [0, 0], [0, 0]])\n",
    "cluster_std = np.array([[4, 1], [2.66, 0.66], [1.33, 0.33]])"
   ]
  },
  {
   "cell_type": "code",
   "execution_count": 3,
   "metadata": {},
   "outputs": [],
   "source": [
    "# Define mean functions\n",
    "mean_function_1 = lambda x: 20 / (1 + np.exp(-x))\n",
    "mean_function_2 = lambda x: -25 / (1 + np.exp(-x))"
   ]
  },
  {
   "cell_type": "code",
   "execution_count": 4,
   "metadata": {},
   "outputs": [],
   "source": [
    "# Simulation one scenario\n",
    "simu = KarhunenLoeve('wiener', n_functions=n_features)\n",
    "simu.new(n_obs=N, n_clusters=n_clusters, centers=centers, cluster_std=cluster_std)\n",
    "\n",
    "mean_data = np.vstack([mean_function_1(simu.data.argvals['input_dim_0']),\n",
    "                       mean_function_2(simu.data.argvals['input_dim_0'])])\n",
    "\n",
    "new_values = np.vstack([simu.data.values[:int(N/2), :] + mean_data[0, :],\n",
    "                        simu.data.values[int(N/2):, :] + mean_data[0, :],\n",
    "                        simu.data.values[:int(N/2), :] + mean_data[1, :],\n",
    "                        simu.data.values[int(N/2):, :] + mean_data[1, :],\n",
    "                        simu.data.values[int(N/2):, :] + mean_data[1, :] - 15 * np.linspace(0, 1, 100)\n",
    "                       ])\n",
    "\n",
    "data = DenseFunctionalData(simu.data.argvals, new_values)\n",
    "labels = np.hstack([simu.labels, simu.labels + 2, np.repeat(4, int(N/2))])"
   ]
  },
  {
   "cell_type": "code",
   "execution_count": 5,
   "metadata": {},
   "outputs": [],
   "source": [
    "# Save the reduced data\n",
    "with open('./data/scenario_1.pkl', 'wb') as f:\n",
    "    pickle.dump(data, f)\n",
    "with open('./data/labels.pkl', 'wb') as f:\n",
    "    pickle.dump(labels, f)"
   ]
  },
  {
   "cell_type": "code",
   "execution_count": 6,
   "metadata": {},
   "outputs": [],
   "source": [
    "# Save as CSV for R methods\n",
    "np.savetxt('./data/scenario_1.csv', data.values, delimiter=',')\n",
    "np.savetxt('./data/labels.csv', labels, delimiter=',')"
   ]
  }
 ],
 "metadata": {
  "kernelspec": {
   "display_name": "Python 3",
   "language": "python",
   "name": "python3"
  },
  "language_info": {
   "codemirror_mode": {
    "name": "ipython",
    "version": 3
   },
   "file_extension": ".py",
   "mimetype": "text/x-python",
   "name": "python",
   "nbconvert_exporter": "python",
   "pygments_lexer": "ipython3",
   "version": "3.7.0"
  },
  "varInspector": {
   "cols": {
    "lenName": 16,
    "lenType": 16,
    "lenVar": 40
   },
   "kernels_config": {
    "python": {
     "delete_cmd_postfix": "",
     "delete_cmd_prefix": "del ",
     "library": "var_list.py",
     "varRefreshCmd": "print(var_dic_list())"
    },
    "r": {
     "delete_cmd_postfix": ") ",
     "delete_cmd_prefix": "rm(",
     "library": "var_list.r",
     "varRefreshCmd": "cat(var_dic_list()) "
    }
   },
   "types_to_exclude": [
    "module",
    "function",
    "builtin_function_or_method",
    "instance",
    "_Feature"
   ],
   "window_display": false
  }
 },
 "nbformat": 4,
 "nbformat_minor": 2
}
