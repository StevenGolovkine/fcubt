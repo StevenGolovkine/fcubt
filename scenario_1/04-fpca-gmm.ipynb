{
 "cells": [
  {
   "cell_type": "markdown",
   "metadata": {},
   "source": [
    "# Perform FPCA+GMM on the data"
   ]
  },
  {
   "cell_type": "code",
   "execution_count": 1,
   "metadata": {},
   "outputs": [],
   "source": [
    "# Load packages\n",
    "import numpy as np\n",
    "import pickle\n",
    "\n",
    "from FDApy.preprocessing.dim_reduction.fpca import UFPCA\n",
    "from FDApy.representation.functional_data import DenseFunctionalData\n",
    "from FDApy.representation.functional_data import MultivariateFunctionalData\n",
    "\n",
    "from sklearn.mixture import GaussianMixture"
   ]
  },
  {
   "cell_type": "code",
   "execution_count": 2,
   "metadata": {},
   "outputs": [],
   "source": [
    "# Load data\n",
    "with open('./data/scenario_1.pkl', 'rb') as f:\n",
    "    data_fd = pickle.load(f)"
   ]
  },
  {
   "cell_type": "code",
   "execution_count": 3,
   "metadata": {},
   "outputs": [],
   "source": [
    "# Do UFPCA on the data for clustering\n",
    "fpca = UFPCA(n_components=0.99)\n",
    "fpca.fit(data_fd, method='GAM')\n",
    "    \n",
    "# Compute scores\n",
    "simu_proj = fpca.transform(data_fd, method='NumInt')"
   ]
  },
  {
   "cell_type": "code",
   "execution_count": 4,
   "metadata": {},
   "outputs": [],
   "source": [
    "# Perform FPCA+GMM\n",
    "results = {}\n",
    "for i in range(2, 9):\n",
    "    gm = GaussianMixture(i)\n",
    "    gm.fit(simu_proj)\n",
    "    bic = gm.bic(simu_proj)\n",
    "    pred = gm.predict(simu_proj)\n",
    "    results[i] = {'BIC': bic, 'labels': pred}"
   ]
  }
 ],
 "metadata": {
  "kernelspec": {
   "display_name": "Python 3",
   "language": "python",
   "name": "python3"
  },
  "language_info": {
   "codemirror_mode": {
    "name": "ipython",
    "version": 3
   },
   "file_extension": ".py",
   "mimetype": "text/x-python",
   "name": "python",
   "nbconvert_exporter": "python",
   "pygments_lexer": "ipython3",
   "version": "3.7.0"
  },
  "varInspector": {
   "cols": {
    "lenName": 16,
    "lenType": 16,
    "lenVar": 40
   },
   "kernels_config": {
    "python": {
     "delete_cmd_postfix": "",
     "delete_cmd_prefix": "del ",
     "library": "var_list.py",
     "varRefreshCmd": "print(var_dic_list())"
    },
    "r": {
     "delete_cmd_postfix": ") ",
     "delete_cmd_prefix": "rm(",
     "library": "var_list.r",
     "varRefreshCmd": "cat(var_dic_list()) "
    }
   },
   "types_to_exclude": [
    "module",
    "function",
    "builtin_function_or_method",
    "instance",
    "_Feature"
   ],
   "window_display": false
  }
 },
 "nbformat": 4,
 "nbformat_minor": 2
}
