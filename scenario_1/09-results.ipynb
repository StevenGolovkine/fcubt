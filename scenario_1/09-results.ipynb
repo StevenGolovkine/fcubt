{
 "cells": [
  {
   "cell_type": "code",
   "execution_count": 20,
   "metadata": {},
   "outputs": [],
   "source": [
    "# Load packages\n",
    "import matplotlib\n",
    "import matplotlib.pyplot as plt\n",
    "import numpy as np\n",
    "import pandas as pd\n",
    "import pickle\n",
    "import pyreadr\n",
    "import seaborn as sns\n",
    "\n",
    "from sklearn.metrics import adjusted_rand_score, adjusted_mutual_info_score, v_measure_score\n",
    "from sklearn.mixture import GaussianMixture\n",
    "from sklearn.preprocessing import StandardScaler\n",
    "\n",
    "import rpy2.robjects as robjects\n",
    "from rpy2.robjects import pandas2ri\n",
    "\n",
    "from matplotlib import colors as mcolors\n",
    "COLORS = [v for v in mcolors.BASE_COLORS.values()]\n",
    "\n",
    "readRDS = robjects.r['readRDS']\n",
    "\n",
    "PATH_RESULTS = './results/'\n",
    "\n",
    "matplotlib.use(\"pgf\")\n",
    "matplotlib.rcParams.update({\n",
    "    \"pgf.texsystem\": \"pdflatex\",\n",
    "    'font.family': 'serif',\n",
    "    'text.usetex': True,\n",
    "    'pgf.rcfonts': False,\n",
    "})\n",
    "\n",
    "COLORS = [\"#377eb8\", \"#ff7f00\", \"#4daf4a\",\n",
    "          \"#f781bf\", \"#a65628\", \"#984ea3\",\n",
    "          \"#999999\", \"#e41a1c\", \"#dede00\"]\n",
    "custom_palette = sns.set_palette(sns.color_palette(COLORS))"
   ]
  },
  {
   "cell_type": "code",
   "execution_count": 3,
   "metadata": {},
   "outputs": [],
   "source": [
    "# Load results\n",
    "with open('./results/results_fcubt.pkl', 'rb') as f:\n",
    "    results_fcubt = pickle.load(f)\n",
    "with open('./results/results_FPCA_GMM.pkl', 'rb') as f:\n",
    "    results_FPCA_GMM = pickle.load(f)\n",
    "with open('./results/results_fcubt_grow.pkl', 'rb') as f:\n",
    "    results_grow = pickle.load(f)\n",
    "with open('./results/results_kmeans.pkl', 'rb') as f:\n",
    "    results_kmeans = pickle.load(f)\n",
    "with open('./results/results_kmeans_derivative.pkl', 'rb') as f:\n",
    "    results_kmeans_derivative = pickle.load(f)\n",
    "\n",
    "results_funhddc = readRDS('./results/results_funhddc.rds')\n",
    "results_funhddc = pandas2ri.rpy2py_dataframe(results_funhddc)\n",
    "results_funclust = readRDS('./results/results_funclust.rds')\n",
    "results_funclust = pandas2ri.rpy2py_dataframe(results_funclust)"
   ]
  },
  {
   "cell_type": "code",
   "execution_count": 4,
   "metadata": {},
   "outputs": [],
   "source": [
    "# FCUBT\n",
    "n_clusters_fcubt = np.array([simu['n_clusters'] for idx, simu in enumerate(results_fcubt)])\n",
    "ARI_fcubt = np.array([simu['ARI'] for idx, simu in enumerate(results_fcubt)])"
   ]
  },
  {
   "cell_type": "code",
   "execution_count": 5,
   "metadata": {},
   "outputs": [],
   "source": [
    "# FPCA+GMM\n",
    "n_clusters_FPCA_GMM = np.array([max(simu, key=lambda key: simu[key]) for idx, simu in results_FPCA_GMM.items()])\n",
    "ARI_FPCA_GMM = np.array([max(simu.values()) for idx, simu in results_FPCA_GMM.items()])"
   ]
  },
  {
   "cell_type": "code",
   "execution_count": 6,
   "metadata": {},
   "outputs": [],
   "source": [
    "# GROW\n",
    "n_clusters_grow = np.array([simu['n_clusters'] for idx, simu in enumerate(results_grow)])\n",
    "ARI_grow = np.array([simu['ARI'] for idx, simu in enumerate(results_grow)])"
   ]
  },
  {
   "cell_type": "code",
   "execution_count": 7,
   "metadata": {},
   "outputs": [],
   "source": [
    "# KMEANS\n",
    "n_clusters_kmeans = np.array([max(simu, key=lambda key: simu[key]) for idx, simu in enumerate(results_kmeans)])\n",
    "ARI_kmeans = np.array([max(simu.values()) for idx, simu in enumerate(results_kmeans)])"
   ]
  },
  {
   "cell_type": "code",
   "execution_count": 8,
   "metadata": {},
   "outputs": [],
   "source": [
    "# KMEANS DERIVATIVE\n",
    "n_clusters_kmeans_deriv = np.array([max(simu, key=lambda key: simu[key]) for idx, simu in enumerate(results_kmeans_derivative)])\n",
    "ARI_kmeans_deriv = np.array([max(simu.values()) for idx, simu in enumerate(results_kmeans_derivative)])"
   ]
  },
  {
   "cell_type": "code",
   "execution_count": 9,
   "metadata": {},
   "outputs": [],
   "source": [
    "# FUNHDDC\n",
    "n_clusters_funhddc = np.array(results_funhddc['n_cluster'])\n",
    "ARI_funhddc = np.array(results_funhddc['ARI'])"
   ]
  },
  {
   "cell_type": "code",
   "execution_count": 10,
   "metadata": {},
   "outputs": [],
   "source": [
    "# FUNCLUST\n",
    "n_clusters_funclust = np.array(results_funclust['n_cluster'])\n",
    "ARI_funclsut = np.array(results_funclust['ARI'])"
   ]
  },
  {
   "cell_type": "code",
   "execution_count": 11,
   "metadata": {},
   "outputs": [],
   "source": [
    "n_clusters = pd.DataFrame({'\\texttt{fCUBT}': n_clusters_fcubt,\n",
    "                           '\\texttt{Growing}': n_clusters_grow,\n",
    "                           '\\texttt{FPCA+GMM}': n_clusters_FPCA_GMM,\n",
    "                           '\\texttt{FunHDDC}': n_clusters_funhddc,\n",
    "                           '\\texttt{Funclust}': n_clusters_funclust,\n",
    "                           '$k$\\texttt{-means-}$d_1$': n_clusters_kmeans,\n",
    "                           '$k$\\texttt{-means-}$d_2$': n_clusters_kmeans_deriv\n",
    "                          })"
   ]
  },
  {
   "cell_type": "code",
   "execution_count": 12,
   "metadata": {},
   "outputs": [
    {
     "data": {
      "text/html": [
       "<div>\n",
       "<style scoped>\n",
       "    .dataframe tbody tr th:only-of-type {\n",
       "        vertical-align: middle;\n",
       "    }\n",
       "\n",
       "    .dataframe tbody tr th {\n",
       "        vertical-align: top;\n",
       "    }\n",
       "\n",
       "    .dataframe thead th {\n",
       "        text-align: right;\n",
       "    }\n",
       "</style>\n",
       "<table border=\"1\" class=\"dataframe\">\n",
       "  <thead>\n",
       "    <tr style=\"text-align: right;\">\n",
       "      <th></th>\n",
       "      <th>2.0</th>\n",
       "      <th>3.0</th>\n",
       "      <th>4.0</th>\n",
       "      <th>5.0</th>\n",
       "      <th>6.0</th>\n",
       "      <th>7.0</th>\n",
       "      <th>8.0</th>\n",
       "      <th>9.0</th>\n",
       "      <th>10.0</th>\n",
       "      <th>11.0</th>\n",
       "      <th>12.0</th>\n",
       "      <th>13.0</th>\n",
       "      <th>14.0</th>\n",
       "      <th>16.0</th>\n",
       "    </tr>\n",
       "  </thead>\n",
       "  <tbody>\n",
       "    <tr>\n",
       "      <th>\\texttt{fCUBT}</th>\n",
       "      <td>NaN</td>\n",
       "      <td>NaN</td>\n",
       "      <td>NaN</td>\n",
       "      <td>0.982</td>\n",
       "      <td>0.018</td>\n",
       "      <td>NaN</td>\n",
       "      <td>NaN</td>\n",
       "      <td>NaN</td>\n",
       "      <td>NaN</td>\n",
       "      <td>NaN</td>\n",
       "      <td>NaN</td>\n",
       "      <td>NaN</td>\n",
       "      <td>NaN</td>\n",
       "      <td>NaN</td>\n",
       "    </tr>\n",
       "    <tr>\n",
       "      <th>\\texttt{Growing}</th>\n",
       "      <td>NaN</td>\n",
       "      <td>NaN</td>\n",
       "      <td>NaN</td>\n",
       "      <td>0.596</td>\n",
       "      <td>0.234</td>\n",
       "      <td>0.080</td>\n",
       "      <td>0.028</td>\n",
       "      <td>0.026</td>\n",
       "      <td>0.012</td>\n",
       "      <td>0.01</td>\n",
       "      <td>0.006</td>\n",
       "      <td>0.004</td>\n",
       "      <td>0.002</td>\n",
       "      <td>0.002</td>\n",
       "    </tr>\n",
       "    <tr>\n",
       "      <th>\\texttt{FPCA+GMM}</th>\n",
       "      <td>NaN</td>\n",
       "      <td>0.002</td>\n",
       "      <td>0.012</td>\n",
       "      <td>0.530</td>\n",
       "      <td>0.316</td>\n",
       "      <td>0.110</td>\n",
       "      <td>0.030</td>\n",
       "      <td>NaN</td>\n",
       "      <td>NaN</td>\n",
       "      <td>NaN</td>\n",
       "      <td>NaN</td>\n",
       "      <td>NaN</td>\n",
       "      <td>NaN</td>\n",
       "      <td>NaN</td>\n",
       "    </tr>\n",
       "    <tr>\n",
       "      <th>\\texttt{FunHDDC}</th>\n",
       "      <td>0.492</td>\n",
       "      <td>0.378</td>\n",
       "      <td>0.114</td>\n",
       "      <td>0.014</td>\n",
       "      <td>0.002</td>\n",
       "      <td>NaN</td>\n",
       "      <td>NaN</td>\n",
       "      <td>NaN</td>\n",
       "      <td>NaN</td>\n",
       "      <td>NaN</td>\n",
       "      <td>NaN</td>\n",
       "      <td>NaN</td>\n",
       "      <td>NaN</td>\n",
       "      <td>NaN</td>\n",
       "    </tr>\n",
       "    <tr>\n",
       "      <th>\\texttt{Funclust}</th>\n",
       "      <td>0.444</td>\n",
       "      <td>0.442</td>\n",
       "      <td>0.106</td>\n",
       "      <td>0.006</td>\n",
       "      <td>0.002</td>\n",
       "      <td>NaN</td>\n",
       "      <td>NaN</td>\n",
       "      <td>NaN</td>\n",
       "      <td>NaN</td>\n",
       "      <td>NaN</td>\n",
       "      <td>NaN</td>\n",
       "      <td>NaN</td>\n",
       "      <td>NaN</td>\n",
       "      <td>NaN</td>\n",
       "    </tr>\n",
       "    <tr>\n",
       "      <th>$k$\\texttt{-means-}$d_1$</th>\n",
       "      <td>NaN</td>\n",
       "      <td>0.150</td>\n",
       "      <td>0.154</td>\n",
       "      <td>0.606</td>\n",
       "      <td>0.016</td>\n",
       "      <td>0.070</td>\n",
       "      <td>0.004</td>\n",
       "      <td>NaN</td>\n",
       "      <td>NaN</td>\n",
       "      <td>NaN</td>\n",
       "      <td>NaN</td>\n",
       "      <td>NaN</td>\n",
       "      <td>NaN</td>\n",
       "      <td>NaN</td>\n",
       "    </tr>\n",
       "    <tr>\n",
       "      <th>$k$\\texttt{-means-}$d_2$</th>\n",
       "      <td>NaN</td>\n",
       "      <td>NaN</td>\n",
       "      <td>0.002</td>\n",
       "      <td>0.050</td>\n",
       "      <td>0.290</td>\n",
       "      <td>0.362</td>\n",
       "      <td>0.296</td>\n",
       "      <td>NaN</td>\n",
       "      <td>NaN</td>\n",
       "      <td>NaN</td>\n",
       "      <td>NaN</td>\n",
       "      <td>NaN</td>\n",
       "      <td>NaN</td>\n",
       "      <td>NaN</td>\n",
       "    </tr>\n",
       "  </tbody>\n",
       "</table>\n",
       "</div>"
      ],
      "text/plain": [
       "                           2.0    3.0    4.0    5.0    6.0    7.0    8.0   \\\n",
       "\\texttt{fCUBT}              NaN    NaN    NaN  0.982  0.018    NaN    NaN   \n",
       "\\texttt{Growing}            NaN    NaN    NaN  0.596  0.234  0.080  0.028   \n",
       "\\texttt{FPCA+GMM}           NaN  0.002  0.012  0.530  0.316  0.110  0.030   \n",
       "\\texttt{FunHDDC}          0.492  0.378  0.114  0.014  0.002    NaN    NaN   \n",
       "\\texttt{Funclust}         0.444  0.442  0.106  0.006  0.002    NaN    NaN   \n",
       "$k$\\texttt{-means-}$d_1$    NaN  0.150  0.154  0.606  0.016  0.070  0.004   \n",
       "$k$\\texttt{-means-}$d_2$    NaN    NaN  0.002  0.050  0.290  0.362  0.296   \n",
       "\n",
       "                           9.0    10.0  11.0   12.0   13.0   14.0   16.0  \n",
       "\\texttt{fCUBT}              NaN    NaN   NaN    NaN    NaN    NaN    NaN  \n",
       "\\texttt{Growing}          0.026  0.012  0.01  0.006  0.004  0.002  0.002  \n",
       "\\texttt{FPCA+GMM}           NaN    NaN   NaN    NaN    NaN    NaN    NaN  \n",
       "\\texttt{FunHDDC}            NaN    NaN   NaN    NaN    NaN    NaN    NaN  \n",
       "\\texttt{Funclust}           NaN    NaN   NaN    NaN    NaN    NaN    NaN  \n",
       "$k$\\texttt{-means-}$d_1$    NaN    NaN   NaN    NaN    NaN    NaN    NaN  \n",
       "$k$\\texttt{-means-}$d_2$    NaN    NaN   NaN    NaN    NaN    NaN    NaN  "
      ]
     },
     "execution_count": 12,
     "metadata": {},
     "output_type": "execute_result"
    }
   ],
   "source": [
    "n_clusters.apply(pd.value_counts, normalize=True).T"
   ]
  },
  {
   "cell_type": "code",
   "execution_count": 13,
   "metadata": {},
   "outputs": [],
   "source": [
    "ARI = pd.DataFrame({'\\\\texttt{fCUBT}': ARI_fcubt,\n",
    "                    '\\\\texttt{Growing}': ARI_grow,\n",
    "                    '\\\\texttt{FPCA+GMM}': ARI_FPCA_GMM,\n",
    "                    '\\\\texttt{FunHDDC}': ARI_funhddc,\n",
    "                    '\\\\texttt{Funclust}': ARI_funclsut,\n",
    "                    '$k$\\\\texttt{-means-}$d_1$': ARI_kmeans,\n",
    "                    '$k$\\\\texttt{-means-}$d_2$': ARI_kmeans_deriv\n",
    "                   })"
   ]
  },
  {
   "cell_type": "code",
   "execution_count": 15,
   "metadata": {},
   "outputs": [
    {
     "data": {
      "image/png": "[encoded data removed]",
      "text/plain": [
       "<Figure size 720x447.12 with 1 Axes>"
      ]
     },
     "metadata": {},
     "output_type": "display_data"
    }
   ],
   "source": [
    "plt.figure(figsize=(10, 6.21), constrained_layout=True)\n",
    "bplot = sns.boxplot(data=ARI)\n",
    "bplot.set_xticklabels(bplot.get_xticklabels(), size=15)\n",
    "for i in range(7):\n",
    "    mybox = bplot.artists[i]\n",
    "    mybox.set_facecolor(COLORS[i])\n",
    "plt.ylabel('ARI', size=16)\n",
    "plt.ylim((0, 1))\n",
    "plt.savefig('./figures/ARI_scenario_1.pdf')"
   ]
  },
  {
   "cell_type": "markdown",
   "metadata": {},
   "source": [
    "## Comparison with classification"
   ]
  },
  {
   "cell_type": "code",
   "execution_count": 21,
   "metadata": {},
   "outputs": [],
   "source": [
    "with open('./results/results_fcubt_classif.pkl', 'rb') as f:\n",
    "    results_classif = pickle.load(f)"
   ]
  },
  {
   "cell_type": "code",
   "execution_count": 22,
   "metadata": {},
   "outputs": [],
   "source": [
    "res = []\n",
    "for simulation in results_classif:\n",
    "    if simulation['n_clusters'] == 5:\n",
    "        res.append(simulation)"
   ]
  },
  {
   "cell_type": "code",
   "execution_count": 23,
   "metadata": {},
   "outputs": [
    {
     "name": "stdout",
     "output_type": "stream",
     "text": [
      "Number of selected dataset 257.\n"
     ]
    }
   ],
   "source": [
    "print(f'Number of selected dataset {len(res)}.')"
   ]
  },
  {
   "cell_type": "code",
   "execution_count": 24,
   "metadata": {},
   "outputs": [],
   "source": [
    "res = pd.DataFrame(res)\n",
    "res.rename(columns = {'ARI_fcubt': '\\\\texttt{fCUBT}',\n",
    "                      'ARI_gp':'\\\\texttt{GPC}',\n",
    "                      'ARI_rf': '\\\\texttt{Random Forest}'}, inplace = True)\n",
    "res = res.drop(['n_clusters'], axis=1)\n",
    "res = res.reindex(columns=['\\\\texttt{fCUBT}', '\\\\texttt{GPC}', '\\\\texttt{Random Forest}'])"
   ]
  },
  {
   "cell_type": "code",
   "execution_count": 26,
   "metadata": {},
   "outputs": [
    {
     "data": {
      "image/png": "[encoded data removed]",
      "text/plain": [
       "<Figure size 720x447.12 with 1 Axes>"
      ]
     },
     "metadata": {},
     "output_type": "display_data"
    }
   ],
   "source": [
    "plt.figure(figsize=(10, 6.21), constrained_layout=True)\n",
    "bplot = sns.boxplot(data=res)\n",
    "bplot.set_xticklabels(bplot.get_xticklabels(), size=15)\n",
    "\n",
    "mybox = bplot.artists[0]\n",
    "mybox.set_facecolor(COLORS[0])\n",
    "mybox = bplot.artists[1]\n",
    "mybox.set_facecolor(COLORS[-2])\n",
    "mybox = bplot.artists[2]\n",
    "mybox.set_facecolor(COLORS[-1])\n",
    "\n",
    "plt.ylabel('ARI', size=16)\n",
    "plt.ylim((0, 1))\n",
    "plt.savefig('./figures/comparison_scenario_1.pdf')"
   ]
  },
  {
   "cell_type": "markdown",
   "metadata": {},
   "source": [
    "## Prediction"
   ]
  },
  {
   "cell_type": "code",
   "execution_count": 27,
   "metadata": {},
   "outputs": [],
   "source": [
    "with open('./results/results_fcubt_prediction.pkl', 'rb') as f:\n",
    "    results_pred = pickle.load(f)"
   ]
  },
  {
   "cell_type": "code",
   "execution_count": 28,
   "metadata": {},
   "outputs": [],
   "source": [
    "results_pred_array = np.empty((500, 1000))\n",
    "for idx in range(len(results_pred)):\n",
    "    results_pred_array[idx, :] = results_pred[idx]"
   ]
  },
  {
   "cell_type": "code",
   "execution_count": 29,
   "metadata": {},
   "outputs": [
    {
     "data": {
      "image/png": "[encoded data removed]",
      "text/plain": [
       "<Figure size 720x447.12 with 1 Axes>"
      ]
     },
     "metadata": {},
     "output_type": "display_data"
    }
   ],
   "source": [
    "plt.figure(figsize=(10, 6.21), constrained_layout=True)\n",
    "for idx in range(len(results_pred)):\n",
    "    plt.plot(results_pred_array[idx, :], c=COLORS[6])\n",
    "plt.plot(results_pred_array.mean(axis=0), c=COLORS[-2])\n",
    "\n",
    "plt.ylabel('ARI', size=16)\n",
    "plt.xlabel('Size of the online dataset', size=16)\n",
    "plt.savefig('./figures/prediction_scenario_1.pdf')"
   ]
  }
 ],
 "metadata": {
  "kernelspec": {
   "display_name": "Python 3",
   "language": "python",
   "name": "python3"
  },
  "language_info": {
   "codemirror_mode": {
    "name": "ipython",
    "version": 3
   },
   "file_extension": ".py",
   "mimetype": "text/x-python",
   "name": "python",
   "nbconvert_exporter": "python",
   "pygments_lexer": "ipython3",
   "version": "3.7.0"
  },
  "varInspector": {
   "cols": {
    "lenName": 16,
    "lenType": 16,
    "lenVar": 40
   },
   "kernels_config": {
    "python": {
     "delete_cmd_postfix": "",
     "delete_cmd_prefix": "del ",
     "library": "var_list.py",
     "varRefreshCmd": "print(var_dic_list())"
    },
    "r": {
     "delete_cmd_postfix": ") ",
     "delete_cmd_prefix": "rm(",
     "library": "var_list.r",
     "varRefreshCmd": "cat(var_dic_list()) "
    }
   },
   "types_to_exclude": [
    "module",
    "function",
    "builtin_function_or_method",
    "instance",
    "_Feature"
   ],
   "window_display": false
  }
 },
 "nbformat": 4,
 "nbformat_minor": 2
}
