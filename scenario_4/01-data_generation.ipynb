{
 "cells": [
  {
   "cell_type": "markdown",
   "metadata": {},
   "source": [
    "# Generation of the data"
   ]
  },
  {
   "cell_type": "code",
   "execution_count": 1,
   "metadata": {},
   "outputs": [],
   "source": [
    "# Load packages\n",
    "import numpy as np\n",
    "import pickle\n",
    "\n",
    "from FDApy.representation.simulation import KarhunenLoeve\n",
    "from FDApy.representation.functional_data import DenseFunctionalData\n",
    "from FDApy.representation.functional_data import MultivariateFunctionalData"
   ]
  },
  {
   "cell_type": "code",
   "execution_count": 2,
   "metadata": {},
   "outputs": [],
   "source": [
    "# Define parameters of the simulation for the curves\n",
    "N = 500\n",
    "n_features = 3\n",
    "n_clusters = 5\n",
    "centers = np.array([[3, 1, 1, -2, -2], \n",
    "                    [2, -2, -2, 0, 0], \n",
    "                    [1, 0, 0, -1, -1]])\n",
    "cluster_std = np.array([[0.5, 0.5, 0.4, 1, 0.2], \n",
    "                        [1.66, 1, 0.8, 2, 0.5], \n",
    "                        [1.33, 1, 0.8, 2, 0.5]])\n",
    "labels = np.repeat([0, 1, 2, 3, 4], int(N / n_clusters))"
   ]
  },
  {
   "cell_type": "code",
   "execution_count": 3,
   "metadata": {},
   "outputs": [],
   "source": [
    "# Generate the curves\n",
    "simu_curves = KarhunenLoeve('wiener', n_functions=n_features)\n",
    "simu_curves.new(n_obs=N, n_clusters=n_clusters, centers=centers, cluster_std=cluster_std)\n",
    "simu_curves.add_noise(var_noise=0.05)"
   ]
  },
  {
   "cell_type": "code",
   "execution_count": 4,
   "metadata": {},
   "outputs": [],
   "source": [
    "# Define parameters of the simulation for the curves\n",
    "N = 500\n",
    "n_features = 2 # x2 because of the tensor product\n",
    "n_clusters = 5\n",
    "centers = np.array([[4, 4, -3, 0, 0], \n",
    "                    [0, 0, -4, 2, 2], \n",
    "                    [0, 0, 0, 0, 0], \n",
    "                    [-2, -2, 0, 1, 1]])\n",
    "cluster_std = np.array([[1, 0.8, 1, 0.1, 2], \n",
    "                        [0.5, 0.7, 0.5, 0.1, 1],\n",
    "                        [0.1, 0.08, 0.1, 0.05, 0.2], \n",
    "                        [0.05, 0.07, 0.05, 0.025, 0.1]])"
   ]
  },
  {
   "cell_type": "code",
   "execution_count": 5,
   "metadata": {},
   "outputs": [],
   "source": [
    "# Generate the images\n",
    "simu_images = KarhunenLoeve('wiener', n_functions=n_features, dimension='2D')\n",
    "simu_images.new(n_obs=N, n_clusters=n_clusters, centers=centers, cluster_std=cluster_std)\n",
    "simu_images.add_noise(var_noise=0.05)"
   ]
  },
  {
   "cell_type": "code",
   "execution_count": 6,
   "metadata": {},
   "outputs": [],
   "source": [
    "# Generate the data\n",
    "data_fd = MultivariateFunctionalData([simu_curves.noisy_data,\n",
    "                                      simu_images.noisy_data])"
   ]
  },
  {
   "cell_type": "code",
   "execution_count": 7,
   "metadata": {},
   "outputs": [],
   "source": [
    "# Save the data\n",
    "with open('./data/scenario_4.pkl', 'wb') as f:\n",
    "    pickle.dump(data_fd, f)\n",
    "with open('./data/labels.pkl', 'wb') as f:\n",
    "    pickle.dump(labels, f)"
   ]
  }
 ],
 "metadata": {
  "kernelspec": {
   "display_name": "Python 3",
   "language": "python",
   "name": "python3"
  },
  "language_info": {
   "codemirror_mode": {
    "name": "ipython",
    "version": 3
   },
   "file_extension": ".py",
   "mimetype": "text/x-python",
   "name": "python",
   "nbconvert_exporter": "python",
   "pygments_lexer": "ipython3",
   "version": "3.7.0"
  },
  "varInspector": {
   "cols": {
    "lenName": 16,
    "lenType": 16,
    "lenVar": 40
   },
   "kernels_config": {
    "python": {
     "delete_cmd_postfix": "",
     "delete_cmd_prefix": "del ",
     "library": "var_list.py",
     "varRefreshCmd": "print(var_dic_list())"
    },
    "r": {
     "delete_cmd_postfix": ") ",
     "delete_cmd_prefix": "rm(",
     "library": "var_list.r",
     "varRefreshCmd": "cat(var_dic_list()) "
    }
   },
   "types_to_exclude": [
    "module",
    "function",
    "builtin_function_or_method",
    "instance",
    "_Feature"
   ],
   "window_display": false
  }
 },
 "nbformat": 4,
 "nbformat_minor": 2
}
