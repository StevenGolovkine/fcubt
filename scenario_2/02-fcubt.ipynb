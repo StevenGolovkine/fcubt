{
 "cells": [
  {
   "cell_type": "markdown",
   "metadata": {},
   "source": [
    "# Perform fCUBT on the data"
   ]
  },
  {
   "cell_type": "code",
   "execution_count": 1,
   "metadata": {},
   "outputs": [],
   "source": [
    "# Load packages\n",
    "import numpy as np\n",
    "import pickle\n",
    "\n",
    "from FDApy.clustering.fcubt import Node, FCUBT\n",
    "from FDApy.representation.functional_data import MultivariateFunctionalData"
   ]
  },
  {
   "cell_type": "code",
   "execution_count": 2,
   "metadata": {},
   "outputs": [],
   "source": [
    "# Load data\n",
    "with open('./data/scenario_2_smooth.pkl', 'rb') as f:\n",
    "    data_fd = pickle.load(f)"
   ]
  },
  {
   "cell_type": "code",
   "execution_count": 3,
   "metadata": {},
   "outputs": [],
   "source": [
    "# Build the tree\n",
    "root_node = Node(data_fd, is_root=True)\n",
    "fcubt = FCUBT(root_node=root_node)"
   ]
  },
  {
   "cell_type": "code",
   "execution_count": 4,
   "metadata": {},
   "outputs": [],
   "source": [
    "# Growing\n",
    "fcubt.grow(n_components=[0.95, 0.95], min_size=10)"
   ]
  },
  {
   "cell_type": "code",
   "execution_count": 10,
   "metadata": {},
   "outputs": [
    {
     "data": {
      "text/plain": [
       "array([[-2.41414131e-01,  2.60864346e-01, -2.83831746e-01,\n",
       "        -1.46128151e-01,  6.80095177e-03, -1.43403380e-01],\n",
       "       [ 1.13058495e+00, -1.24247722e+00, -1.01607013e+00,\n",
       "        -2.38324534e-01, -1.34890143e-02, -6.52247705e-02],\n",
       "       [-4.57235449e-01,  2.94671463e-01, -5.47537563e-01,\n",
       "        -1.74253223e-01,  6.85631317e-02,  1.07831786e-03],\n",
       "       ...,\n",
       "       [ 1.12925427e-01,  1.49321739e-01,  6.76497662e-02,\n",
       "         5.30262877e-01,  9.90680418e-02, -1.35482578e-02],\n",
       "       [ 4.01798415e-01,  2.35363877e-01, -1.66831810e-02,\n",
       "         5.90913291e-01,  9.78297485e-03,  6.02557874e-02],\n",
       "       [ 1.98717901e-01, -8.27841046e-02, -1.32692275e-01,\n",
       "         5.78814803e-01,  9.07485459e-02, -2.18782210e-02]])"
      ]
     },
     "execution_count": 10,
     "metadata": {},
     "output_type": "execute_result"
    }
   ],
   "source": [
    "fcubt.tree[0].fpca.transform(data_fd)"
   ]
  },
  {
   "cell_type": "code",
   "execution_count": 11,
   "metadata": {},
   "outputs": [],
   "source": [
    "np.savetxt('coef.csv', fcubt.tree[0].fpca.transform(data_fd), delimiter = ',')"
   ]
  },
  {
   "cell_type": "code",
   "execution_count": 5,
   "metadata": {},
   "outputs": [],
   "source": [
    "# Joining\n",
    "fcubt.join(n_components=[0.95, 0.95])"
   ]
  }
 ],
 "metadata": {
  "kernelspec": {
   "display_name": "Python 3 (ipykernel)",
   "language": "python",
   "name": "python3"
  },
  "language_info": {
   "codemirror_mode": {
    "name": "ipython",
    "version": 3
   },
   "file_extension": ".py",
   "mimetype": "text/x-python",
   "name": "python",
   "nbconvert_exporter": "python",
   "pygments_lexer": "ipython3",
   "version": "3.9.6"
  },
  "varInspector": {
   "cols": {
    "lenName": 16,
    "lenType": 16,
    "lenVar": 40
   },
   "kernels_config": {
    "python": {
     "delete_cmd_postfix": "",
     "delete_cmd_prefix": "del ",
     "library": "var_list.py",
     "varRefreshCmd": "print(var_dic_list())"
    },
    "r": {
     "delete_cmd_postfix": ") ",
     "delete_cmd_prefix": "rm(",
     "library": "var_list.r",
     "varRefreshCmd": "cat(var_dic_list()) "
    }
   },
   "types_to_exclude": [
    "module",
    "function",
    "builtin_function_or_method",
    "instance",
    "_Feature"
   ],
   "window_display": false
  }
 },
 "nbformat": 4,
 "nbformat_minor": 2
}
