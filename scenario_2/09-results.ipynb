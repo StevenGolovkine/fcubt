{
 "cells": [
  {
   "cell_type": "code",
   "execution_count": 1,
   "metadata": {},
   "outputs": [],
   "source": [
    "# Load packages\n",
    "import matplotlib\n",
    "import matplotlib.pyplot as plt\n",
    "import numpy as np\n",
    "import pandas as pd\n",
    "import pickle\n",
    "import pyreadr\n",
    "import seaborn as sns\n",
    "\n",
    "from sklearn.metrics import adjusted_rand_score, adjusted_mutual_info_score, v_measure_score\n",
    "from sklearn.mixture import GaussianMixture\n",
    "from sklearn.preprocessing import StandardScaler\n",
    "\n",
    "import rpy2.robjects as robjects\n",
    "from rpy2.robjects import pandas2ri\n",
    "\n",
    "from matplotlib import colors as mcolors\n",
    "COLORS = [v for v in mcolors.BASE_COLORS.values()]\n",
    "\n",
    "readRDS = robjects.r['readRDS']\n",
    "\n",
    "PATH_RESULTS = './results/'\n",
    "\n",
    "matplotlib.use(\"pgf\")\n",
    "matplotlib.rcParams.update({\n",
    "    \"pgf.texsystem\": \"pdflatex\",\n",
    "    'font.family': 'serif',\n",
    "    'text.usetex': True,\n",
    "    'pgf.rcfonts': False,\n",
    "})\n",
    "\n",
    "COLORS = [\"#377eb8\", \"#ff7f00\", \"#4daf4a\",\n",
    "          \"#f781bf\", \"#a65628\", \"#984ea3\",\n",
    "          \"#999999\", \"#e41a1c\", \"#dede00\"]\n",
    "custom_palette = sns.set_palette(sns.color_palette(COLORS))"
   ]
  },
  {
   "cell_type": "code",
   "execution_count": 2,
   "metadata": {},
   "outputs": [],
   "source": [
    "# Load results\n",
    "with open('./results/results_fcubt.pkl', 'rb') as f:\n",
    "    results_fcubt = pickle.load(f)\n",
    "with open('./results/results_FPCA_GMM.pkl', 'rb') as f:\n",
    "    results_FPCA_GMM = pickle.load(f)\n",
    "with open('./results/results_fcubt_grow.pkl', 'rb') as f:\n",
    "    results_grow = pickle.load(f)\n",
    "with open('./results/results_kmeans.pkl', 'rb') as f:\n",
    "    results_kmeans = pickle.load(f)\n",
    "with open('./results/results_kmeans_derivative.pkl', 'rb') as f:\n",
    "    results_kmeans_derivative = pickle.load(f)\n",
    "\n",
    "#results_funhddc = readRDS('./results/results_funhddc.rds')\n",
    "#results_funhddc = pandas2ri.rpy2py_dataframe(results_funhddc)\n",
    "results_funhddc_review = readRDS('./results/results_funhddc_review.rds')\n",
    "results_funhddc_review = pandas2ri.rpy2py_dataframe(results_funhddc_review)\n",
    "results_funclust = readRDS('./results/results_funclust.rds')\n",
    "results_funclust = pandas2ri.rpy2py_dataframe(results_funclust)"
   ]
  },
  {
   "cell_type": "code",
   "execution_count": 3,
   "metadata": {},
   "outputs": [],
   "source": [
    "# FCUBT\n",
    "n_clusters_fcubt = np.array([simu['n_clusters'] for idx, simu in enumerate(results_fcubt)])\n",
    "ARI_fcubt = np.array([simu['ARI'] for idx, simu in enumerate(results_fcubt)])"
   ]
  },
  {
   "cell_type": "code",
   "execution_count": 4,
   "metadata": {},
   "outputs": [],
   "source": [
    "# FPCA+GMM\n",
    "n_clusters_FPCA_GMM = np.array([max(simu, key=lambda key: simu[key]) for idx, simu in enumerate(results_FPCA_GMM)])\n",
    "ARI_FPCA_GMM = np.array([max(simu.values()) for idx, simu in enumerate(results_FPCA_GMM)])"
   ]
  },
  {
   "cell_type": "code",
   "execution_count": 5,
   "metadata": {},
   "outputs": [],
   "source": [
    "# GROW\n",
    "n_clusters_grow = np.array([simu['n_clusters'] for idx, simu in enumerate(results_grow)])\n",
    "ARI_grow = np.array([simu['ARI'] for idx, simu in enumerate(results_grow)])"
   ]
  },
  {
   "cell_type": "code",
   "execution_count": 6,
   "metadata": {},
   "outputs": [],
   "source": [
    "# KMEANS\n",
    "n_clusters_kmeans = np.array([max(simu, key=lambda key: simu[key]) for idx, simu in enumerate(results_kmeans)])\n",
    "ARI_kmeans = np.array([max(simu.values()) for idx, simu in enumerate(results_kmeans)])"
   ]
  },
  {
   "cell_type": "code",
   "execution_count": 7,
   "metadata": {},
   "outputs": [],
   "source": [
    "# KMEANS DERIVATIVE\n",
    "n_clusters_kmeans_deriv = np.array([max(simu, key=lambda key: simu[key]) for idx, simu in enumerate(results_kmeans_derivative)])\n",
    "ARI_kmeans_deriv = np.array([max(simu.values()) for idx, simu in enumerate(results_kmeans_derivative)])"
   ]
  },
  {
   "cell_type": "code",
   "execution_count": 8,
   "metadata": {},
   "outputs": [],
   "source": [
    "# FUNHDDC\n",
    "# n_clusters_funhddc = np.array(results_funhddc['n_cluster'])\n",
    "# ARI_funhddc = np.array(results_funhddc['ARI'])"
   ]
  },
  {
   "cell_type": "code",
   "execution_count": 8,
   "metadata": {},
   "outputs": [],
   "source": [
    "# FUNHDDC review\n",
    "# n_clusters_funhddc_A = np.array(results_funhddc_review['n_cluster_A'])\n",
    "# ARI_funhddc_A = np.array(results_funhddc_review['ARI_A'])\n",
    "n_clusters_funhddc_B = np.array(results_funhddc_review['n_cluster_B'])\n",
    "ARI_funhddc_B = np.array(results_funhddc_review['ARI_B'])"
   ]
  },
  {
   "cell_type": "code",
   "execution_count": 9,
   "metadata": {},
   "outputs": [],
   "source": [
    "# FUNCLUST\n",
    "n_clusters_funclust = np.array(results_funclust['n_cluster'])\n",
    "ARI_funclsut = np.array(results_funclust['ARI'])"
   ]
  },
  {
   "cell_type": "code",
   "execution_count": 10,
   "metadata": {},
   "outputs": [],
   "source": [
    "n_clusters = pd.DataFrame({'\\texttt{fCUBT}': n_clusters_fcubt,\n",
    "                           '\\texttt{Growing}': n_clusters_grow,\n",
    "                           '\\texttt{FPCA+GMM}': n_clusters_FPCA_GMM,\n",
    "                           '\\texttt{FunHDDC}_B': n_clusters_funhddc_B,\n",
    "                           '\\texttt{Funclust}': n_clusters_funclust,\n",
    "                           '$k$\\texttt{-means-}$d_1$': n_clusters_kmeans,\n",
    "                           '$k$\\texttt{-means-}$d_2$': n_clusters_kmeans_deriv\n",
    "                          })"
   ]
  },
  {
   "cell_type": "code",
   "execution_count": 11,
   "metadata": {},
   "outputs": [
    {
     "data": {
      "text/html": [
       "<div>\n",
       "<style scoped>\n",
       "    .dataframe tbody tr th:only-of-type {\n",
       "        vertical-align: middle;\n",
       "    }\n",
       "\n",
       "    .dataframe tbody tr th {\n",
       "        vertical-align: top;\n",
       "    }\n",
       "\n",
       "    .dataframe thead th {\n",
       "        text-align: right;\n",
       "    }\n",
       "</style>\n",
       "<table border=\"1\" class=\"dataframe\">\n",
       "  <thead>\n",
       "    <tr style=\"text-align: right;\">\n",
       "      <th></th>\n",
       "      <th>2.0</th>\n",
       "      <th>3.0</th>\n",
       "      <th>4.0</th>\n",
       "      <th>5.0</th>\n",
       "      <th>6.0</th>\n",
       "      <th>7.0</th>\n",
       "      <th>8.0</th>\n",
       "      <th>9.0</th>\n",
       "      <th>10.0</th>\n",
       "      <th>11.0</th>\n",
       "      <th>12.0</th>\n",
       "      <th>13.0</th>\n",
       "      <th>14.0</th>\n",
       "      <th>15.0</th>\n",
       "      <th>16.0</th>\n",
       "    </tr>\n",
       "  </thead>\n",
       "  <tbody>\n",
       "    <tr>\n",
       "      <th>\\texttt{fCUBT}</th>\n",
       "      <td>NaN</td>\n",
       "      <td>NaN</td>\n",
       "      <td>NaN</td>\n",
       "      <td>0.692</td>\n",
       "      <td>0.182</td>\n",
       "      <td>0.100</td>\n",
       "      <td>0.022</td>\n",
       "      <td>0.002</td>\n",
       "      <td>0.002</td>\n",
       "      <td>NaN</td>\n",
       "      <td>NaN</td>\n",
       "      <td>NaN</td>\n",
       "      <td>NaN</td>\n",
       "      <td>NaN</td>\n",
       "      <td>NaN</td>\n",
       "    </tr>\n",
       "    <tr>\n",
       "      <th>\\texttt{Growing}</th>\n",
       "      <td>NaN</td>\n",
       "      <td>NaN</td>\n",
       "      <td>NaN</td>\n",
       "      <td>0.516</td>\n",
       "      <td>0.184</td>\n",
       "      <td>0.120</td>\n",
       "      <td>0.086</td>\n",
       "      <td>0.034</td>\n",
       "      <td>0.024</td>\n",
       "      <td>0.014</td>\n",
       "      <td>0.008</td>\n",
       "      <td>0.006</td>\n",
       "      <td>0.004</td>\n",
       "      <td>0.002</td>\n",
       "      <td>0.002</td>\n",
       "    </tr>\n",
       "    <tr>\n",
       "      <th>\\texttt{FPCA+GMM}</th>\n",
       "      <td>NaN</td>\n",
       "      <td>NaN</td>\n",
       "      <td>NaN</td>\n",
       "      <td>0.266</td>\n",
       "      <td>0.450</td>\n",
       "      <td>0.248</td>\n",
       "      <td>0.036</td>\n",
       "      <td>NaN</td>\n",
       "      <td>NaN</td>\n",
       "      <td>NaN</td>\n",
       "      <td>NaN</td>\n",
       "      <td>NaN</td>\n",
       "      <td>NaN</td>\n",
       "      <td>NaN</td>\n",
       "      <td>NaN</td>\n",
       "    </tr>\n",
       "    <tr>\n",
       "      <th>\\texttt{FunHDDC}_B</th>\n",
       "      <td>0.012</td>\n",
       "      <td>0.006</td>\n",
       "      <td>0.002</td>\n",
       "      <td>0.018</td>\n",
       "      <td>0.040</td>\n",
       "      <td>0.054</td>\n",
       "      <td>0.038</td>\n",
       "      <td>0.242</td>\n",
       "      <td>0.588</td>\n",
       "      <td>NaN</td>\n",
       "      <td>NaN</td>\n",
       "      <td>NaN</td>\n",
       "      <td>NaN</td>\n",
       "      <td>NaN</td>\n",
       "      <td>NaN</td>\n",
       "    </tr>\n",
       "    <tr>\n",
       "      <th>\\texttt{Funclust}</th>\n",
       "      <td>0.284</td>\n",
       "      <td>0.174</td>\n",
       "      <td>0.152</td>\n",
       "      <td>0.156</td>\n",
       "      <td>0.136</td>\n",
       "      <td>0.072</td>\n",
       "      <td>0.026</td>\n",
       "      <td>NaN</td>\n",
       "      <td>NaN</td>\n",
       "      <td>NaN</td>\n",
       "      <td>NaN</td>\n",
       "      <td>NaN</td>\n",
       "      <td>NaN</td>\n",
       "      <td>NaN</td>\n",
       "      <td>NaN</td>\n",
       "    </tr>\n",
       "    <tr>\n",
       "      <th>$k$\\texttt{-means-}$d_1$</th>\n",
       "      <td>NaN</td>\n",
       "      <td>0.002</td>\n",
       "      <td>0.018</td>\n",
       "      <td>0.046</td>\n",
       "      <td>0.080</td>\n",
       "      <td>0.178</td>\n",
       "      <td>0.676</td>\n",
       "      <td>NaN</td>\n",
       "      <td>NaN</td>\n",
       "      <td>NaN</td>\n",
       "      <td>NaN</td>\n",
       "      <td>NaN</td>\n",
       "      <td>NaN</td>\n",
       "      <td>NaN</td>\n",
       "      <td>NaN</td>\n",
       "    </tr>\n",
       "    <tr>\n",
       "      <th>$k$\\texttt{-means-}$d_2$</th>\n",
       "      <td>NaN</td>\n",
       "      <td>0.056</td>\n",
       "      <td>0.116</td>\n",
       "      <td>0.822</td>\n",
       "      <td>0.004</td>\n",
       "      <td>0.002</td>\n",
       "      <td>NaN</td>\n",
       "      <td>NaN</td>\n",
       "      <td>NaN</td>\n",
       "      <td>NaN</td>\n",
       "      <td>NaN</td>\n",
       "      <td>NaN</td>\n",
       "      <td>NaN</td>\n",
       "      <td>NaN</td>\n",
       "      <td>NaN</td>\n",
       "    </tr>\n",
       "  </tbody>\n",
       "</table>\n",
       "</div>"
      ],
      "text/plain": [
       "                           2.0    3.0    4.0    5.0    6.0    7.0    8.0   \\\n",
       "\\texttt{fCUBT}              NaN    NaN    NaN  0.692  0.182  0.100  0.022   \n",
       "\\texttt{Growing}            NaN    NaN    NaN  0.516  0.184  0.120  0.086   \n",
       "\\texttt{FPCA+GMM}           NaN    NaN    NaN  0.266  0.450  0.248  0.036   \n",
       "\\texttt{FunHDDC}_B        0.012  0.006  0.002  0.018  0.040  0.054  0.038   \n",
       "\\texttt{Funclust}         0.284  0.174  0.152  0.156  0.136  0.072  0.026   \n",
       "$k$\\texttt{-means-}$d_1$    NaN  0.002  0.018  0.046  0.080  0.178  0.676   \n",
       "$k$\\texttt{-means-}$d_2$    NaN  0.056  0.116  0.822  0.004  0.002    NaN   \n",
       "\n",
       "                           9.0    10.0   11.0   12.0   13.0   14.0   15.0  \\\n",
       "\\texttt{fCUBT}            0.002  0.002    NaN    NaN    NaN    NaN    NaN   \n",
       "\\texttt{Growing}          0.034  0.024  0.014  0.008  0.006  0.004  0.002   \n",
       "\\texttt{FPCA+GMM}           NaN    NaN    NaN    NaN    NaN    NaN    NaN   \n",
       "\\texttt{FunHDDC}_B        0.242  0.588    NaN    NaN    NaN    NaN    NaN   \n",
       "\\texttt{Funclust}           NaN    NaN    NaN    NaN    NaN    NaN    NaN   \n",
       "$k$\\texttt{-means-}$d_1$    NaN    NaN    NaN    NaN    NaN    NaN    NaN   \n",
       "$k$\\texttt{-means-}$d_2$    NaN    NaN    NaN    NaN    NaN    NaN    NaN   \n",
       "\n",
       "                           16.0  \n",
       "\\texttt{fCUBT}              NaN  \n",
       "\\texttt{Growing}          0.002  \n",
       "\\texttt{FPCA+GMM}           NaN  \n",
       "\\texttt{FunHDDC}_B          NaN  \n",
       "\\texttt{Funclust}           NaN  \n",
       "$k$\\texttt{-means-}$d_1$    NaN  \n",
       "$k$\\texttt{-means-}$d_2$    NaN  "
      ]
     },
     "execution_count": 11,
     "metadata": {},
     "output_type": "execute_result"
    }
   ],
   "source": [
    "n_clusters.apply(pd.value_counts, normalize=True).T"
   ]
  },
  {
   "cell_type": "code",
   "execution_count": 12,
   "metadata": {},
   "outputs": [],
   "source": [
    "ARI = pd.DataFrame({'\\\\texttt{fCUBT}': ARI_fcubt,\n",
    "                    '\\\\texttt{Growing}': ARI_grow,\n",
    "                    '\\\\texttt{FPCA+GMM}': ARI_FPCA_GMM,\n",
    "                    '\\\\texttt{FunHDDC}': ARI_funhddc_B,\n",
    "                    '\\\\texttt{Funclust}': ARI_funclsut,\n",
    "                    '$k$\\\\texttt{-means-}$d_1$': ARI_kmeans,\n",
    "                    '$k$\\\\texttt{-means-}$d_2$': ARI_kmeans_deriv\n",
    "                   })"
   ]
  },
  {
   "cell_type": "code",
   "execution_count": 16,
   "metadata": {},
   "outputs": [],
   "source": [
    "plt.figure(figsize=(5, 5), constrained_layout=True)\n",
    "bplot = sns.boxplot(data=ARI, orient='h')\n",
    "bplot.set_yticklabels([])\n",
    "for i in range(7):\n",
    "    mybox = bplot.artists[i]\n",
    "    mybox.set_facecolor(COLORS[i])\n",
    "plt.xlabel('ARI', size=16)\n",
    "plt.xlim((0, 1))\n",
    "plt.savefig('./figures/ARI_scenario_2.eps', format='eps')"
   ]
  },
  {
   "cell_type": "markdown",
   "metadata": {},
   "source": [
    "## Influence of $n_{comp}$"
   ]
  },
  {
   "cell_type": "code",
   "execution_count": 2,
   "metadata": {},
   "outputs": [],
   "source": [
    "with open('./results/results_fcubt_ncomp_7.pkl', 'rb') as f:\n",
    "    results_ncomp7 = pickle.load(f)\n",
    "with open('./results/results_fcubt_ncomp_5.pkl', 'rb') as f:\n",
    "    results_ncomp5 = pickle.load(f)\n",
    "with open('./results/results_fcubt_ncomp_3.pkl', 'rb') as f:\n",
    "    results_ncomp3 = pickle.load(f)"
   ]
  },
  {
   "cell_type": "code",
   "execution_count": 3,
   "metadata": {},
   "outputs": [],
   "source": [
    "# FCUBT n_comp = 7\n",
    "n_clusters_ncomp7 = np.array([simu['n_clusters'] for idx, simu in enumerate(results_ncomp7)])\n",
    "ARI_ncomp7 = np.array([simu['ARI'] for idx, simu in enumerate(results_ncomp7)])"
   ]
  },
  {
   "cell_type": "code",
   "execution_count": 4,
   "metadata": {},
   "outputs": [],
   "source": [
    "# FCUBT n_comp = 5\n",
    "n_clusters_ncomp5 = np.array([simu['n_clusters'] for idx, simu in enumerate(results_ncomp5)])\n",
    "ARI_ncomp5 = np.array([simu['ARI'] for idx, simu in enumerate(results_ncomp5)])"
   ]
  },
  {
   "cell_type": "code",
   "execution_count": 5,
   "metadata": {},
   "outputs": [],
   "source": [
    "# FCUBT n_comp = 3\n",
    "n_clusters_ncomp3 = np.array([simu['n_clusters'] for idx, simu in enumerate(results_ncomp3)])\n",
    "ARI_ncomp3 = np.array([simu['ARI'] for idx, simu in enumerate(results_ncomp3)])"
   ]
  },
  {
   "cell_type": "code",
   "execution_count": 6,
   "metadata": {},
   "outputs": [],
   "source": [
    "n_clusters = pd.DataFrame({'$J^{(p)} = 3$': n_clusters_ncomp3,\n",
    "                           '$J^{(p)} = 5$': n_clusters_ncomp5,\n",
    "                           '$J^{(p)} = 7$': n_clusters_ncomp7\n",
    "                          })"
   ]
  },
  {
   "cell_type": "code",
   "execution_count": 7,
   "metadata": {},
   "outputs": [
    {
     "data": {
      "text/html": [
       "<div>\n",
       "<style scoped>\n",
       "    .dataframe tbody tr th:only-of-type {\n",
       "        vertical-align: middle;\n",
       "    }\n",
       "\n",
       "    .dataframe tbody tr th {\n",
       "        vertical-align: top;\n",
       "    }\n",
       "\n",
       "    .dataframe thead th {\n",
       "        text-align: right;\n",
       "    }\n",
       "</style>\n",
       "<table border=\"1\" class=\"dataframe\">\n",
       "  <thead>\n",
       "    <tr style=\"text-align: right;\">\n",
       "      <th></th>\n",
       "      <th>4</th>\n",
       "      <th>5</th>\n",
       "      <th>6</th>\n",
       "      <th>7</th>\n",
       "    </tr>\n",
       "  </thead>\n",
       "  <tbody>\n",
       "    <tr>\n",
       "      <th>$J^{(p)} = 3$</th>\n",
       "      <td>0.020</td>\n",
       "      <td>0.968</td>\n",
       "      <td>0.012</td>\n",
       "      <td>NaN</td>\n",
       "    </tr>\n",
       "    <tr>\n",
       "      <th>$J^{(p)} = 5$</th>\n",
       "      <td>0.050</td>\n",
       "      <td>0.948</td>\n",
       "      <td>NaN</td>\n",
       "      <td>0.002</td>\n",
       "    </tr>\n",
       "    <tr>\n",
       "      <th>$J^{(p)} = 7$</th>\n",
       "      <td>0.074</td>\n",
       "      <td>0.914</td>\n",
       "      <td>0.012</td>\n",
       "      <td>NaN</td>\n",
       "    </tr>\n",
       "  </tbody>\n",
       "</table>\n",
       "</div>"
      ],
      "text/plain": [
       "                   4      5      6      7\n",
       "$J^{(p)} = 3$  0.020  0.968  0.012    NaN\n",
       "$J^{(p)} = 5$  0.050  0.948    NaN  0.002\n",
       "$J^{(p)} = 7$  0.074  0.914  0.012    NaN"
      ]
     },
     "execution_count": 7,
     "metadata": {},
     "output_type": "execute_result"
    }
   ],
   "source": [
    "n_clusters.apply(pd.value_counts, normalize=True).T"
   ]
  },
  {
   "cell_type": "code",
   "execution_count": 8,
   "metadata": {},
   "outputs": [],
   "source": [
    "ARI = pd.DataFrame({'$J^{(p)} = 3$': ARI_ncomp3,\n",
    "                    '$J^{(p)} = 5$': ARI_ncomp5,\n",
    "                    '$J^{(p)} = 7$': ARI_ncomp7\n",
    "                   })"
   ]
  },
  {
   "cell_type": "code",
   "execution_count": 9,
   "metadata": {},
   "outputs": [],
   "source": [
    "plt.figure(figsize=(5, 5), constrained_layout=True)\n",
    "bplot = sns.boxplot(data=ARI)\n",
    "bplot.set_xticklabels(bplot.get_xticklabels(), size=15)\n",
    "for i in range(3):\n",
    "    mybox = bplot.artists[i]\n",
    "    mybox.set_facecolor(COLORS[i])\n",
    "plt.ylabel('ARI', size=16)\n",
    "plt.ylim((0.4, 1))\n",
    "plt.savefig('./figures/ARI_ncomp_scenario_2.eps', format='eps')"
   ]
  },
  {
   "cell_type": "markdown",
   "metadata": {},
   "source": [
    "## Different $n_comp$ for the nodes"
   ]
  },
  {
   "cell_type": "code",
   "execution_count": 2,
   "metadata": {},
   "outputs": [],
   "source": [
    "with open('./results/results_fcubt_review.pkl', 'rb') as f:\n",
    "    results_fcubt = pickle.load(f)"
   ]
  },
  {
   "cell_type": "code",
   "execution_count": 3,
   "metadata": {},
   "outputs": [],
   "source": [
    "n_clusters = np.array([simu['n_clusters'] for idx, simu in enumerate(results_fcubt)])\n",
    "ARI = np.array([simu['ARI'] for idx, simu in enumerate(results_fcubt)])"
   ]
  },
  {
   "cell_type": "code",
   "execution_count": 6,
   "metadata": {
    "scrolled": true
   },
   "outputs": [],
   "source": [
    "n_clusters = pd.DataFrame({'\\texttt{fCUBT}': n_clusters})"
   ]
  },
  {
   "cell_type": "code",
   "execution_count": 10,
   "metadata": {},
   "outputs": [
    {
     "data": {
      "text/plain": [
       "'\\\\begin{tabular}{lrrrr}\\n\\\\toprule\\n{} &      5 &      6 &      7 &      8 \\\\\\\\\\n\\\\midrule\\n\\\\textbackslash texttt\\\\{fCUBT\\\\} &  0.958 &  0.034 &  0.006 &  0.002 \\\\\\\\\\n\\\\bottomrule\\n\\\\end{tabular}\\n'"
      ]
     },
     "execution_count": 10,
     "metadata": {},
     "output_type": "execute_result"
    }
   ],
   "source": [
    "n_clusters.apply(pd.value_counts, normalize=True).T.to_latex()"
   ]
  },
  {
   "cell_type": "code",
   "execution_count": 8,
   "metadata": {},
   "outputs": [],
   "source": [
    "ARI = pd.DataFrame({'\\\\texttt{fCUBT}': ARI})"
   ]
  },
  {
   "cell_type": "code",
   "execution_count": 11,
   "metadata": {},
   "outputs": [
    {
     "data": {
      "text/plain": [
       "'\\\\begin{tabular}{lrrrrrrrrrrr}\\n\\\\toprule\\n{} &       0.0 &       0.1 &       0.2 &       0.3 &       0.4 &       0.5 &       0.6 &       0.7 &       0.8 &       0.9 &       1.0 \\\\\\\\\\n\\\\midrule\\n\\\\textbackslash texttt\\\\{fCUBT\\\\} &  0.592862 &  0.867525 &  0.890652 &  0.896316 &  0.901226 &  0.903975 &  0.907945 &  0.911932 &  0.916064 &  0.921914 &  0.941173 \\\\\\\\\\n\\\\bottomrule\\n\\\\end{tabular}\\n'"
      ]
     },
     "execution_count": 11,
     "metadata": {},
     "output_type": "execute_result"
    }
   ],
   "source": [
    "ARI.quantile(q=np.linspace(0, 1, 11)).T.to_latex()"
   ]
  },
  {
   "cell_type": "markdown",
   "metadata": {},
   "source": [
    "## Gaussian assumption"
   ]
  },
  {
   "cell_type": "code",
   "execution_count": 2,
   "metadata": {},
   "outputs": [],
   "source": [
    "test_gaussian = pd.read_csv('./results/test_gaussian.csv')"
   ]
  },
  {
   "cell_type": "code",
   "execution_count": 5,
   "metadata": {},
   "outputs": [],
   "source": [
    "plt.figure(figsize=(5, 5), constrained_layout=True)\n",
    "bplot = sns.boxplot(data=test_gaussian, orient='h')\n",
    "bplot.set_yticklabels([])\n",
    "for i in range(5):\n",
    "    mybox = bplot.artists[i]\n",
    "    mybox.set_facecolor(COLORS[i])\n",
    "plt.xlabel('$p$-values', size=16)\n",
    "plt.xlim((0, 1))\n",
    "plt.axvline(x=0.05, color='red', linestyle='-.')\n",
    "plt.savefig('./figures/test_gaussian.eps', format='eps')"
   ]
  },
  {
   "cell_type": "markdown",
   "metadata": {},
   "source": [
    "## Comparison with classification"
   ]
  },
  {
   "cell_type": "code",
   "execution_count": 25,
   "metadata": {},
   "outputs": [],
   "source": [
    "with open('./results/results_fcubt_classif.pkl', 'rb') as f:\n",
    "    results_classif = pickle.load(f)"
   ]
  },
  {
   "cell_type": "code",
   "execution_count": 26,
   "metadata": {},
   "outputs": [],
   "source": [
    "res = []\n",
    "for simulation in results_classif:\n",
    "    if simulation['n_clusters'] == 5:\n",
    "        res.append(simulation)"
   ]
  },
  {
   "cell_type": "code",
   "execution_count": 27,
   "metadata": {},
   "outputs": [
    {
     "name": "stdout",
     "output_type": "stream",
     "text": [
      "Number of selected dataset 172.\n"
     ]
    }
   ],
   "source": [
    "print(f'Number of selected dataset {len(res)}.')"
   ]
  },
  {
   "cell_type": "code",
   "execution_count": 28,
   "metadata": {},
   "outputs": [],
   "source": [
    "res = pd.DataFrame(res)\n",
    "res.rename(columns = {'ARI_fcubt': '\\\\texttt{fCUBT}',\n",
    "                      'ARI_gp':'\\\\texttt{GPC}',\n",
    "                      'ARI_rf': '\\\\texttt{Random Forest}'}, inplace = True)\n",
    "res = res.drop(['n_clusters'], axis=1)\n",
    "res = res.reindex(columns=['\\\\texttt{fCUBT}', '\\\\texttt{GPC}', '\\\\texttt{Random Forest}'])"
   ]
  },
  {
   "cell_type": "code",
   "execution_count": 29,
   "metadata": {},
   "outputs": [],
   "source": [
    "plt.figure(figsize=(5, 5), constrained_layout=True)\n",
    "bplot = sns.boxplot(data=res)\n",
    "bplot.set_xticklabels(bplot.get_xticklabels(), size=15)\n",
    "\n",
    "mybox = bplot.artists[0]\n",
    "mybox.set_facecolor(COLORS[0])\n",
    "mybox = bplot.artists[1]\n",
    "mybox.set_facecolor(COLORS[-2])\n",
    "mybox = bplot.artists[2]\n",
    "mybox.set_facecolor(COLORS[-1])\n",
    "\n",
    "plt.ylabel('ARI', size=16)\n",
    "plt.ylim((0, 1))\n",
    "plt.savefig('./figures/comparison_scenario_2.eps', format='eps')"
   ]
  },
  {
   "cell_type": "markdown",
   "metadata": {},
   "source": [
    "## Comparison with classification (review)"
   ]
  },
  {
   "cell_type": "code",
   "execution_count": 2,
   "metadata": {},
   "outputs": [],
   "source": [
    "with open('./results/results_fcubt_classif_review.pkl', 'rb') as f:\n",
    "    results_classif_review = pickle.load(f)"
   ]
  },
  {
   "cell_type": "code",
   "execution_count": 3,
   "metadata": {},
   "outputs": [],
   "source": [
    "res = []\n",
    "for simulation in results_classif_review:\n",
    "    if simulation['n_clusters'] == 5:\n",
    "        res.append(simulation)"
   ]
  },
  {
   "cell_type": "code",
   "execution_count": 4,
   "metadata": {},
   "outputs": [
    {
     "name": "stdout",
     "output_type": "stream",
     "text": [
      "Number of selected dataset 436.\n"
     ]
    }
   ],
   "source": [
    "print(f'Number of selected dataset {len(res)}.')"
   ]
  },
  {
   "cell_type": "code",
   "execution_count": 5,
   "metadata": {},
   "outputs": [],
   "source": [
    "res = pd.DataFrame(res)\n",
    "res.rename(columns = {'ARI_fcubt': '\\\\texttt{fCUBT}',\n",
    "                      'ARI_gp':'\\\\texttt{GPC}',\n",
    "                      'ARI_rf': '\\\\texttt{Random Forest}'}, inplace = True)\n",
    "res = res.drop(['n_clusters'], axis=1)\n",
    "res = res.reindex(columns=['\\\\texttt{fCUBT}', '\\\\texttt{GPC}', '\\\\texttt{Random Forest}'])"
   ]
  },
  {
   "cell_type": "code",
   "execution_count": 6,
   "metadata": {},
   "outputs": [],
   "source": [
    "plt.figure(figsize=(5, 5), constrained_layout=True)\n",
    "bplot = sns.boxplot(data=res)\n",
    "bplot.set_xticklabels(bplot.get_xticklabels(), size=15)\n",
    "\n",
    "mybox = bplot.artists[0]\n",
    "mybox.set_facecolor(COLORS[0])\n",
    "mybox = bplot.artists[1]\n",
    "mybox.set_facecolor(COLORS[-2])\n",
    "mybox = bplot.artists[2]\n",
    "mybox.set_facecolor(COLORS[-1])\n",
    "\n",
    "plt.ylabel('ARI', size=16)\n",
    "plt.ylim((0.4, 1))\n",
    "plt.savefig('./figures/comparison_review_scenario_2.eps', format='eps')"
   ]
  },
  {
   "cell_type": "markdown",
   "metadata": {},
   "source": [
    "## Prediction"
   ]
  },
  {
   "cell_type": "code",
   "execution_count": 35,
   "metadata": {},
   "outputs": [],
   "source": [
    "with open('./results/results_fcubt_prediction_200.pkl', 'rb') as f:\n",
    "    results_pred_200 = pickle.load(f)\n",
    "with open('./results/results_fcubt_prediction_500.pkl', 'rb') as f:\n",
    "    results_pred_500 = pickle.load(f)\n",
    "with open('./results/results_fcubt_prediction_1000.pkl', 'rb') as f:\n",
    "    results_pred_1000 = pickle.load(f)"
   ]
  },
  {
   "cell_type": "code",
   "execution_count": 36,
   "metadata": {},
   "outputs": [],
   "source": [
    "results_pred_array = np.empty((500, 999, 3))\n",
    "for idx in range(len(results_pred_200)):\n",
    "    results_pred_array[idx, :, 0] = results_pred_200[idx][:-1]\n",
    "    results_pred_array[idx, :, 1] = results_pred_500[idx]\n",
    "    results_pred_array[idx, :, 2] = results_pred_1000[idx][:-1]"
   ]
  },
  {
   "cell_type": "code",
   "execution_count": 37,
   "metadata": {},
   "outputs": [],
   "source": [
    "plt.figure(figsize=(10, 6.21), constrained_layout=True)\n",
    "for idx in range(len(results_pred_200)):\n",
    "    plt.plot(results_pred_array[idx, :, 0], c=COLORS[6])\n",
    "plt.plot(results_pred_array[:, :, 0].mean(axis=0), c=COLORS[-2])\n",
    "\n",
    "plt.ylabel('ARI', size=16)\n",
    "plt.xlabel('Size of the online dataset', size=16)\n",
    "plt.savefig('./figures/prediction_200_scenario_2.eps', format='eps')"
   ]
  },
  {
   "cell_type": "code",
   "execution_count": 38,
   "metadata": {},
   "outputs": [],
   "source": [
    "plt.figure(figsize=(10, 6.21), constrained_layout=True)\n",
    "for idx in range(len(results_pred_500)):\n",
    "    plt.plot(results_pred_array[idx, :, 1], c=COLORS[6])\n",
    "plt.plot(results_pred_array[:, :, 1].mean(axis=0), c=COLORS[-2])\n",
    "\n",
    "plt.ylabel('ARI', size=16)\n",
    "plt.xlabel('Size of the online dataset', size=16)\n",
    "plt.savefig('./figures/prediction_500_scenario_2.eps', format='eps')"
   ]
  },
  {
   "cell_type": "code",
   "execution_count": 39,
   "metadata": {},
   "outputs": [],
   "source": [
    "plt.figure(figsize=(10, 6.21), constrained_layout=True)\n",
    "for idx in range(len(results_pred_1000)):\n",
    "    plt.plot(results_pred_array[idx, :, 2], c=COLORS[6])\n",
    "plt.plot(results_pred_array[:, :, 2].mean(axis=0), c=COLORS[-2])\n",
    "\n",
    "plt.ylabel('ARI', size=16)\n",
    "plt.xlabel('Size of the online dataset', size=16)\n",
    "plt.savefig('./figures/prediction_1000_scenario_2.eps', format='eps')"
   ]
  },
  {
   "cell_type": "code",
   "execution_count": 40,
   "metadata": {},
   "outputs": [],
   "source": [
    "res = pd.DataFrame(results_pred_array[:, -1, :])\n",
    "res.rename(columns = {0: '$N = 200$',\n",
    "                      1: '$N = 500$',\n",
    "                      2: '$N = 1000$'}, inplace = True)\n",
    "plt.figure(figsize=(5, 5), constrained_layout=True)\n",
    "bplot = sns.boxplot(data=res)\n",
    "bplot.set_xticklabels(bplot.get_xticklabels(), size=15)\n",
    "for i in range(3):\n",
    "    mybox = bplot.artists[i]\n",
    "    mybox.set_facecolor(COLORS[i])\n",
    "plt.xticks(size=20)\n",
    "plt.ylabel('ARI', size=16)\n",
    "plt.ylim((0, 1))\n",
    "plt.savefig('./figures/prediction_scenario_2.eps')"
   ]
  }
 ],
 "metadata": {
  "kernelspec": {
   "display_name": "Python 3 (ipykernel)",
   "language": "python",
   "name": "python3"
  },
  "language_info": {
   "codemirror_mode": {
    "name": "ipython",
    "version": 3
   },
   "file_extension": ".py",
   "mimetype": "text/x-python",
   "name": "python",
   "nbconvert_exporter": "python",
   "pygments_lexer": "ipython3",
   "version": "3.9.6"
  },
  "varInspector": {
   "cols": {
    "lenName": 16,
    "lenType": 16,
    "lenVar": 40
   },
   "kernels_config": {
    "python": {
     "delete_cmd_postfix": "",
     "delete_cmd_prefix": "del ",
     "library": "var_list.py",
     "varRefreshCmd": "print(var_dic_list())"
    },
    "r": {
     "delete_cmd_postfix": ") ",
     "delete_cmd_prefix": "rm(",
     "library": "var_list.r",
     "varRefreshCmd": "cat(var_dic_list()) "
    }
   },
   "types_to_exclude": [
    "module",
    "function",
    "builtin_function_or_method",
    "instance",
    "_Feature"
   ],
   "window_display": false
  }
 },
 "nbformat": 4,
 "nbformat_minor": 2
}
