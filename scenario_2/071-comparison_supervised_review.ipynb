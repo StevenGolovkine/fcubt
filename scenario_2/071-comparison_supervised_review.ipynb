{
 "cells": [
  {
   "cell_type": "code",
   "execution_count": 1,
   "metadata": {},
   "outputs": [],
   "source": [
    "# Load packages\n",
    "import numpy as np\n",
    "import pickle\n",
    "\n",
    "from FDApy.preprocessing.dim_reduction.fpca import MFPCA\n",
    "from FDApy.representation.functional_data import MultivariateFunctionalData\n",
    "from FDApy.clustering.fcubt import Node, FCUBT\n",
    "\n",
    "from sklearn.gaussian_process import GaussianProcessClassifier\n",
    "from sklearn.gaussian_process.kernels import RBF\n",
    "from sklearn.metrics import adjusted_rand_score\n",
    "from sklearn.model_selection import train_test_split\n",
    "from sklearn.ensemble import RandomForestClassifier\n",
    "from sklearn.utils import shuffle"
   ]
  },
  {
   "cell_type": "code",
   "execution_count": 2,
   "metadata": {},
   "outputs": [],
   "source": [
    "# Load data\n",
    "with open('./data/scenario_2_smooth.pkl', 'rb') as f:\n",
    "    data_fd = pickle.load(f)\n",
    "with open('./data/labels.pkl', 'rb') as f:\n",
    "    labels = pickle.load(f)"
   ]
  },
  {
   "cell_type": "code",
   "execution_count": 3,
   "metadata": {},
   "outputs": [],
   "source": [
    "# Split data into train/test set\n",
    "x = np.arange(data_fd.n_obs)\n",
    "np.random.shuffle(x)\n",
    "\n",
    "data_shuffle = [data[x] for data in data_fd]\n",
    "labels_shuffle = labels[x]\n",
    "new_data = MultivariateFunctionalData(data_shuffle)\n",
    "\n",
    "pct = 0.33\n",
    "s = int(np.ceil((1 - pct) * new_data.n_obs))\n",
    "train = MultivariateFunctionalData([data[:s] for data in new_data])\n",
    "test = MultivariateFunctionalData([data[s:] for data in new_data])\n",
    "labels_train = labels_shuffle[:s]\n",
    "labels_test = labels_shuffle[s:]"
   ]
  },
  {
   "cell_type": "markdown",
   "metadata": {},
   "source": [
    "## Perform MFPCA"
   ]
  },
  {
   "cell_type": "code",
   "execution_count": 8,
   "metadata": {},
   "outputs": [],
   "source": [
    "# Do MFPCA on the data\n",
    "fpca = MFPCA(n_components=[0.99, 0.99])\n",
    "fpca.fit(train, method='NumInt')\n",
    "    \n",
    "# Compute scores\n",
    "train_proj = fpca.transform(train)\n",
    "test_proj = fpca.transform(test)"
   ]
  },
  {
   "cell_type": "markdown",
   "metadata": {},
   "source": [
    "## Classification using GaussianProcessClassifier"
   ]
  },
  {
   "cell_type": "code",
   "execution_count": 9,
   "metadata": {},
   "outputs": [
    {
     "data": {
      "text/plain": [
       "GaussianProcessClassifier(kernel=1**2 * RBF(length_scale=1))"
      ]
     },
     "execution_count": 9,
     "metadata": {},
     "output_type": "execute_result"
    }
   ],
   "source": [
    "# Fit GPC\n",
    "gp = GaussianProcessClassifier(1.0 * RBF(1.0))\n",
    "gp.fit(train_proj, labels_train)"
   ]
  },
  {
   "cell_type": "code",
   "execution_count": 10,
   "metadata": {},
   "outputs": [],
   "source": [
    "# Prediction for GPC\n",
    "pred_gpc = gp.predict(test_proj)"
   ]
  },
  {
   "cell_type": "markdown",
   "metadata": {},
   "source": [
    "## CART classification"
   ]
  },
  {
   "cell_type": "code",
   "execution_count": 11,
   "metadata": {},
   "outputs": [
    {
     "data": {
      "text/plain": [
       "RandomForestClassifier()"
      ]
     },
     "execution_count": 11,
     "metadata": {},
     "output_type": "execute_result"
    }
   ],
   "source": [
    "# Fit CART\n",
    "clf = RandomForestClassifier()\n",
    "clf.fit(train_proj, labels_train)"
   ]
  },
  {
   "cell_type": "code",
   "execution_count": 12,
   "metadata": {},
   "outputs": [],
   "source": [
    "# Prediction for CART\n",
    "pred_cart = clf.predict(test_proj)"
   ]
  },
  {
   "cell_type": "markdown",
   "metadata": {},
   "source": [
    "## fCUBT clustering"
   ]
  },
  {
   "cell_type": "code",
   "execution_count": 13,
   "metadata": {},
   "outputs": [],
   "source": [
    "# Initialization of the tree\n",
    "root_node = Node(train, is_root=True)\n",
    "fcubt = FCUBT(root_node=root_node)"
   ]
  },
  {
   "cell_type": "code",
   "execution_count": 14,
   "metadata": {},
   "outputs": [],
   "source": [
    "# Grow and join the tree\n",
    "fcubt.grow(n_components=[0.95, 0.95])\n",
    "fcubt.join(n_components=[0.95, 0.95])"
   ]
  },
  {
   "cell_type": "code",
   "execution_count": 15,
   "metadata": {},
   "outputs": [],
   "source": [
    "# Perform the prediction on the test set\n",
    "pred_fcubt = fcubt.predict(test, step='join')"
   ]
  },
  {
   "cell_type": "markdown",
   "metadata": {},
   "source": [
    "## Results"
   ]
  },
  {
   "cell_type": "code",
   "execution_count": 17,
   "metadata": {},
   "outputs": [
    {
     "name": "stdout",
     "output_type": "stream",
     "text": [
      "Adjusted Rand Index for FCUBT: 0.9113314232196531\n",
      "Adjusted Rand Index for GPC: 0.877167367885907\n",
      "Adjusted Rand Index for CART: 0.8936439496246166\n"
     ]
    }
   ],
   "source": [
    "print(f'Adjusted Rand Index for FCUBT: {adjusted_rand_score(labels_test, pred_fcubt)}')\n",
    "print(f'Adjusted Rand Index for GPC: {adjusted_rand_score(labels_test, pred_gpc)}')\n",
    "print(f'Adjusted Rand Index for CART: {adjusted_rand_score(labels_test, pred_cart)}')"
   ]
  }
 ],
 "metadata": {
  "kernelspec": {
   "display_name": "Python 3 (ipykernel)",
   "language": "python",
   "name": "python3"
  },
  "language_info": {
   "codemirror_mode": {
    "name": "ipython",
    "version": 3
   },
   "file_extension": ".py",
   "mimetype": "text/x-python",
   "name": "python",
   "nbconvert_exporter": "python",
   "pygments_lexer": "ipython3",
   "version": "3.9.6"
  },
  "varInspector": {
   "cols": {
    "lenName": 16,
    "lenType": 16,
    "lenVar": 40
   },
   "kernels_config": {
    "python": {
     "delete_cmd_postfix": "",
     "delete_cmd_prefix": "del ",
     "library": "var_list.py",
     "varRefreshCmd": "print(var_dic_list())"
    },
    "r": {
     "delete_cmd_postfix": ") ",
     "delete_cmd_prefix": "rm(",
     "library": "var_list.r",
     "varRefreshCmd": "cat(var_dic_list()) "
    }
   },
   "types_to_exclude": [
    "module",
    "function",
    "builtin_function_or_method",
    "instance",
    "_Feature"
   ],
   "window_display": false
  }
 },
 "nbformat": 4,
 "nbformat_minor": 2
}
