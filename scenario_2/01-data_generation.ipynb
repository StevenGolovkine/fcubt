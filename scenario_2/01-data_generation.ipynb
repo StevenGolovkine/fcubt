{
 "cells": [
  {
   "cell_type": "markdown",
   "metadata": {},
   "source": [
    "# Generation of the data"
   ]
  },
  {
   "cell_type": "code",
   "execution_count": 1,
   "metadata": {},
   "outputs": [],
   "source": [
    "# Load packages\n",
    "import numpy as np\n",
    "import pickle\n",
    "\n",
    "from FDApy.representation.simulation import Brownian\n",
    "from FDApy.representation.functional_data import DenseFunctionalData\n",
    "from FDApy.representation.functional_data import MultivariateFunctionalData"
   ]
  },
  {
   "cell_type": "code",
   "execution_count": 2,
   "metadata": {},
   "outputs": [],
   "source": [
    "# Define parameters of the simulation\n",
    "N1, N2, N3, N4, N5 = 200, 200, 200, 200, 200\n",
    "M = 101\n",
    "hurst1, hurst2 = 0.9, 0.8\n",
    "n_clusters = 3\n",
    "x = np.linspace(1, 21, M)\n",
    "labels = np.repeat([0, 1, 2, 3, 4], repeats=(N1, N2, N3, N4, N5))"
   ]
  },
  {
   "cell_type": "code",
   "execution_count": 3,
   "metadata": {},
   "outputs": [],
   "source": [
    "# Define mean functions\n",
    "def h(x, a):\n",
    "    return 6 - np.abs(x - a)\n",
    "\n",
    "h_1 = lambda x: h(x, 7) / 4 if h(x, 7) > 0 else 0\n",
    "h_2 = lambda x: h(x, 15) / 4 if h(x, 15) > 0 else 0\n",
    "h_3 = lambda x: h(x, 11) / 4 if h(x, 11) > 0 else 0"
   ]
  },
  {
   "cell_type": "code",
   "execution_count": 4,
   "metadata": {},
   "outputs": [],
   "source": [
    "# Simulation one scenario\n",
    "A = np.zeros((N1 + N2 + N3 + N4 + N5, M))\n",
    "B = np.zeros((N1 + N2 + N3 + N4 + N5, M))\n",
    "for idx in range(N1 + N2 + N3 + N4 + N5):\n",
    "    h1 = np.array([h_1(i) for i in x])\n",
    "    h2 = np.array([h_2(i) for i in x])\n",
    "    h3 = np.array([h_3(i) for i in x])\n",
    "    \n",
    "    brownian = Brownian(name='fractional')\n",
    "    brownian.new(1, argvals=np.linspace(0, 2, 2 * M), hurst=hurst1)\n",
    "    rand_part1 = brownian.data.values[0, M:] / (1 + np.linspace(0, 1, M)) ** hurst1\n",
    "        \n",
    "    brownian = Brownian(name='fractional')\n",
    "    brownian.new(1, argvals=np.linspace(0, 2, 2 * M), hurst=hurst2)\n",
    "    rand_part2 = brownian.data.values[0, M:] / (1 + np.linspace(0, 1, M)) ** hurst2\n",
    "    \n",
    "    eps = np.random.normal(0, np.sqrt(0.5), size=M)\n",
    "    if idx < N1:\n",
    "        A[idx, :] = h1 + rand_part1 + eps\n",
    "        B[idx, :] = h3 + 1.5 * rand_part2 + eps\n",
    "    elif N1 <= idx < N1 + N2:\n",
    "        A[idx, :] = h2 + rand_part1 + eps\n",
    "        B[idx, :] = h3 + 0.8 * rand_part2 + eps\n",
    "    elif N1 + N2 <= idx < N1 + N2 + N3:\n",
    "        A[idx, :] = h1 + rand_part1 + eps\n",
    "        B[idx, :] = h3 + 0.2 * rand_part2 + eps\n",
    "    elif N1 + N2 + N3 <= idx < N1 + N2 + N3 + N4:\n",
    "        A[idx, :] = h2 + 0.1 * rand_part1 + eps\n",
    "        B[idx, :] = h2 + 0.2 * rand_part2 + eps\n",
    "    else:\n",
    "        A[idx, :] = h3 + rand_part1 + eps\n",
    "        B[idx, :] = h1 + 0.2 * rand_part2 + eps"
   ]
  },
  {
   "cell_type": "code",
   "execution_count": 5,
   "metadata": {},
   "outputs": [],
   "source": [
    "# Create functional data object\n",
    "data_1 = DenseFunctionalData({'input_dim_0': np.linspace(0, 1, M)}, A)\n",
    "data_2 = DenseFunctionalData({'input_dim_0': np.linspace(0, 1, M)}, B)\n",
    "data_fd = MultivariateFunctionalData([data_1, data_2])"
   ]
  },
  {
   "cell_type": "markdown",
   "metadata": {},
   "source": [
    "## Smooth the data"
   ]
  },
  {
   "cell_type": "code",
   "execution_count": 6,
   "metadata": {},
   "outputs": [],
   "source": [
    "# Smooth the data\n",
    "data_1_smooth = data_1.smooth(points=0.5, neighborhood=6)\n",
    "data_2_smooth = data_2.smooth(points=0.5, neighborhood=6)\n",
    "data_fd_smooth = MultivariateFunctionalData([data_1_smooth, data_2_smooth])"
   ]
  },
  {
   "cell_type": "code",
   "execution_count": 7,
   "metadata": {},
   "outputs": [],
   "source": [
    "# Save the data\n",
    "with open('./data/scenario_2.pkl', 'wb') as f:\n",
    "    pickle.dump(data_fd, f)\n",
    "with open('./data/scenario_2_smooth.pkl', 'wb') as f:\n",
    "    pickle.dump(data_fd_smooth, f)\n",
    "with open('./data/labels.pkl', 'wb') as f:\n",
    "    pickle.dump(labels, f)"
   ]
  },
  {
   "cell_type": "code",
   "execution_count": 8,
   "metadata": {},
   "outputs": [],
   "source": [
    "# Save as CSV for R methods\n",
    "np.savetxt('./data/scenario_2_A.csv', A, delimiter=',')\n",
    "np.savetxt('./data/scenario_2_B.csv', B, delimiter=',')\n",
    "np.savetxt('./data/scenario_2_A_smooth.csv', data_1_smooth.values, delimiter=',')\n",
    "np.savetxt('./data/scenario_2_B_smooth.csv', data_1_smooth.values, delimiter=',')\n",
    "np.savetxt('./data/labels.csv', labels, delimiter=',')"
   ]
  }
 ],
 "metadata": {
  "kernelspec": {
   "display_name": "Python 3",
   "language": "python",
   "name": "python3"
  },
  "language_info": {
   "codemirror_mode": {
    "name": "ipython",
    "version": 3
   },
   "file_extension": ".py",
   "mimetype": "text/x-python",
   "name": "python",
   "nbconvert_exporter": "python",
   "pygments_lexer": "ipython3",
   "version": "3.7.0"
  },
  "varInspector": {
   "cols": {
    "lenName": 16,
    "lenType": 16,
    "lenVar": 40
   },
   "kernels_config": {
    "python": {
     "delete_cmd_postfix": "",
     "delete_cmd_prefix": "del ",
     "library": "var_list.py",
     "varRefreshCmd": "print(var_dic_list())"
    },
    "r": {
     "delete_cmd_postfix": ") ",
     "delete_cmd_prefix": "rm(",
     "library": "var_list.r",
     "varRefreshCmd": "cat(var_dic_list()) "
    }
   },
   "types_to_exclude": [
    "module",
    "function",
    "builtin_function_or_method",
    "instance",
    "_Feature"
   ],
   "window_display": false
  }
 },
 "nbformat": 4,
 "nbformat_minor": 2
}
