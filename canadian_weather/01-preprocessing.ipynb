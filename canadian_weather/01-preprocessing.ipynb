{
 "cells": [
  {
   "cell_type": "markdown",
   "metadata": {},
   "source": [
    "# Preprocessing of the data"
   ]
  },
  {
   "cell_type": "code",
   "execution_count": 1,
   "metadata": {},
   "outputs": [],
   "source": [
    "# Load packages\n",
    "import numpy as np\n",
    "import pickle\n",
    "\n",
    "from FDApy.representation.functional_data import DenseFunctionalData\n",
    "from FDApy.misc.loader import read_csv"
   ]
  },
  {
   "cell_type": "code",
   "execution_count": 2,
   "metadata": {},
   "outputs": [],
   "source": [
    "# Load data\n",
    "temperature = read_csv('./data/canadian_temperature_daily.csv', index_col=0)\n",
    "temperature = DenseFunctionalData({'input_dim_0': np.linspace(0, 1, num=365)}, temperature.values)\n",
    "\n",
    "precipitation = read_csv('./data/canadian_precipitation_daily.csv', index_col=0)\n",
    "precipitation = DenseFunctionalData({'input_dim_0': np.linspace(0, 1, num=364)}, precipitation.values)"
   ]
  },
  {
   "cell_type": "markdown",
   "metadata": {},
   "source": [
    "We normalize the data following the methodology using by Jacques and Preda, in Model-based clustering for multivariate functional data (2012), section 2.3."
   ]
  },
  {
   "cell_type": "code",
   "execution_count": 3,
   "metadata": {},
   "outputs": [],
   "source": [
    "# Data reduction\n",
    "cov_temp = temperature.covariance()\n",
    "reduced_temp = DenseFunctionalData(temperature.argvals,\n",
    "                                   temperature.values / np.sqrt(np.diag(cov_temp.values[0])))\n",
    "\n",
    "cov_precipitation = precipitation.covariance()\n",
    "reduced_prec = DenseFunctionalData(precipitation.argvals,\n",
    "                                   precipitation.values / np.sqrt(np.diag(cov_precipitation.values[0])))"
   ]
  },
  {
   "cell_type": "code",
   "execution_count": 4,
   "metadata": {},
   "outputs": [],
   "source": [
    "# Save the reduced data\n",
    "with open('./data/canadian_temperature_daily_reduced.pkl', 'wb') as f:\n",
    "    pickle.dump(reduced_temp, f)\n",
    "with open('./data/canadian_precipitation_daily_reduced.pkl', 'wb') as f:\n",
    "    pickle.dump(reduced_prec, f)"
   ]
  },
  {
   "cell_type": "code",
   "execution_count": 5,
   "metadata": {},
   "outputs": [],
   "source": [
    "# Save as CSV for R methods\n",
    "np.savetxt('./data/canadian_temperature_daily_reduced.csv', reduced_temp.values, delimiter=',')\n",
    "np.savetxt('./data/canadian_precipitation_daily_reduced.csv', reduced_prec.values, delimiter=',')"
   ]
  }
 ],
 "metadata": {
  "kernelspec": {
   "display_name": "Python 3",
   "language": "python",
   "name": "python3"
  },
  "language_info": {
   "codemirror_mode": {
    "name": "ipython",
    "version": 3
   },
   "file_extension": ".py",
   "mimetype": "text/x-python",
   "name": "python",
   "nbconvert_exporter": "python",
   "pygments_lexer": "ipython3",
   "version": "3.7.0"
  },
  "varInspector": {
   "cols": {
    "lenName": 16,
    "lenType": 16,
    "lenVar": 40
   },
   "kernels_config": {
    "python": {
     "delete_cmd_postfix": "",
     "delete_cmd_prefix": "del ",
     "library": "var_list.py",
     "varRefreshCmd": "print(var_dic_list())"
    },
    "r": {
     "delete_cmd_postfix": ") ",
     "delete_cmd_prefix": "rm(",
     "library": "var_list.r",
     "varRefreshCmd": "cat(var_dic_list()) "
    }
   },
   "types_to_exclude": [
    "module",
    "function",
    "builtin_function_or_method",
    "instance",
    "_Feature"
   ],
   "window_display": false
  }
 },
 "nbformat": 4,
 "nbformat_minor": 2
}
