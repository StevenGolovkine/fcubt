{
 "cells": [
  {
   "cell_type": "code",
   "execution_count": 1,
   "id": "8ec91c02",
   "metadata": {},
   "outputs": [],
   "source": [
    "# Load packages\n",
    "import matplotlib\n",
    "import matplotlib.pyplot as plt\n",
    "import numpy as np\n",
    "import pandas as pd\n",
    "import pickle\n",
    "import pyreadr\n",
    "import seaborn as sns\n",
    "\n",
    "from sklearn.metrics import adjusted_rand_score, adjusted_mutual_info_score, v_measure_score\n",
    "from sklearn.mixture import GaussianMixture\n",
    "from sklearn.preprocessing import StandardScaler\n",
    "\n",
    "import rpy2.robjects as robjects\n",
    "from rpy2.robjects import pandas2ri\n",
    "\n",
    "from matplotlib import colors as mcolors\n",
    "COLORS = [v for v in mcolors.BASE_COLORS.values()]\n",
    "\n",
    "readRDS = robjects.r['readRDS']\n",
    "\n",
    "PATH_RESULTS = './results/'\n",
    "\n",
    "matplotlib.use(\"pgf\")\n",
    "matplotlib.rcParams.update({\n",
    "    \"pgf.texsystem\": \"pdflatex\",\n",
    "    'font.family': 'serif',\n",
    "    'text.usetex': True,\n",
    "    'pgf.rcfonts': False,\n",
    "})\n",
    "\n",
    "COLORS = [\"#377eb8\", \"#ff7f00\", \"#4daf4a\",\n",
    "          \"#f781bf\", \"#a65628\", \"#984ea3\",\n",
    "          \"#999999\", \"#e41a1c\", \"#dede00\"]\n",
    "custom_palette = sns.set_palette(sns.color_palette(COLORS))"
   ]
  },
  {
   "cell_type": "code",
   "execution_count": 5,
   "id": "b98c1a4c",
   "metadata": {},
   "outputs": [],
   "source": [
    "# Load results\n",
    "with open('./scenario_1/results/results_fcubt_comptime.pkl', 'rb') as f:\n",
    "    comptime_1 = pickle.load(f)\n",
    "results_comptime_1 = np.array([simu['comp_time'] for idx, simu in enumerate(comptime_1)])\n",
    "with open('./scenario_2/results/results_fcubt_comptime.pkl', 'rb') as f:\n",
    "    comptime_2 = pickle.load(f)\n",
    "results_comptime_2 = np.array([simu['comp_time'] for idx, simu in enumerate(comptime_2)])\n",
    "with open('./scenario_3/results/results_fcubt_comptime.pkl', 'rb') as f:\n",
    "    comptime_3 = pickle.load(f)\n",
    "results_comptime_3 = np.array([simu['comp_time'] for idx, simu in enumerate(comptime_3)])\n",
    "with open('./scenario_4/results/results_fcubt_comptime.pkl', 'rb') as f:\n",
    "    comptime_4 = pickle.load(f)\n",
    "results_comptime_4 = np.array([simu['comp_time'] for idx, simu in enumerate(comptime_4)])"
   ]
  },
  {
   "cell_type": "code",
   "execution_count": 12,
   "id": "4855aaed",
   "metadata": {},
   "outputs": [],
   "source": [
    "comptime = pd.DataFrame({'Scenario 1': results_comptime_1,\n",
    "                         'Scenario 2': results_comptime_2,\n",
    "                         'Scenario 3': results_comptime_3,\n",
    "                         'Scenario 4': results_comptime_4,\n",
    "                        })"
   ]
  },
  {
   "cell_type": "code",
   "execution_count": 17,
   "id": "49a1a755",
   "metadata": {},
   "outputs": [],
   "source": [
    "plt.figure(figsize=(7, 5), constrained_layout=True)\n",
    "bplot = sns.boxplot(data=comptime, orient='h')\n",
    "bplot.set_yticklabels(bplot.get_yticklabels(), size=15)\n",
    "for i in range(4):\n",
    "    mybox = bplot.artists[i]\n",
    "    mybox.set_facecolor(COLORS[i])\n",
    "plt.xlabel('Computation time (in seconds)', size=16)\n",
    "plt.savefig('./comptime.eps', format='eps')"
   ]
  }
 ],
 "metadata": {
  "kernelspec": {
   "display_name": "Python 3 (ipykernel)",
   "language": "python",
   "name": "python3"
  },
  "language_info": {
   "codemirror_mode": {
    "name": "ipython",
    "version": 3
   },
   "file_extension": ".py",
   "mimetype": "text/x-python",
   "name": "python",
   "nbconvert_exporter": "python",
   "pygments_lexer": "ipython3",
   "version": "3.9.6"
  }
 },
 "nbformat": 4,
 "nbformat_minor": 5
}
