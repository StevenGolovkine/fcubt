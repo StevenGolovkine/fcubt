{
 "cells": [
  {
   "cell_type": "markdown",
   "metadata": {},
   "source": [
    "# Exploration of the data\n",
    "\n",
    "The notebook can not be run without having a `data` folder with the data from the ``https://round-dataset.com`` website.\n",
    "\n",
    "\n",
    "The functions to format the data are adapted from `https://github.com/RobertKrajewski/highD-dataset/blob/master/Python/src/data_management/read_csv.py`. And the ones to plot the data from `https://github.com/ika-rwth-aachen/drone-dataset-tools/blob/master/src/track_visualizer.py`."
   ]
  },
  {
   "cell_type": "code",
   "execution_count": 1,
   "metadata": {},
   "outputs": [],
   "source": [
    "# Load packages\n",
    "import imageio\n",
    "import glob\n",
    "import numpy as np\n",
    "import matplotlib\n",
    "import matplotlib as mpl\n",
    "import matplotlib.pyplot as plt\n",
    "import pandas as pd\n",
    "import seaborn as sns\n",
    "\n",
    "matplotlib.use(\"pgf\")\n",
    "matplotlib.rcParams.update({\n",
    "    \"pgf.texsystem\": \"pdflatex\",\n",
    "    'font.family': 'serif',\n",
    "    'text.usetex': True,\n",
    "    'pgf.rcfonts': False,\n",
    "})\n",
    "\n",
    "COLORS = [\"#377eb8\", \"#ff7f00\", \"#4daf4a\",\n",
    "          \"#f781bf\", \"#a65628\", \"#984ea3\",\n",
    "          \"#999999\", \"#e41a1c\", \"#dede00\"]\n",
    "custom_palette = sns.set_palette(sns.color_palette(COLORS))"
   ]
  },
  {
   "cell_type": "code",
   "execution_count": 2,
   "metadata": {
    "code_folding": [
     0
    ]
   },
   "outputs": [],
   "source": [
    "# TRACK FILE\n",
    "RECORDING_ID = \"recordingId\"  # -\n",
    "TRACK_ID = \"trackId\"  # -\n",
    "FRAME = \"frame\"\n",
    "TRACK_LIFETIME = \"trackLifetime\"  # -\n",
    "BBOX = \"bbox\"  # (m, m, m, m)\n",
    "X_CENTER = \"xCenter\"  # m\n",
    "Y_CENTER = \"yCenter\"  # m\n",
    "HEADING = \"heading\"  # deg\n",
    "WIDTH = \"width\"  # m\n",
    "HEIGHT = \"height\"  # m\n",
    "X_VELOCITY = \"xVelocity\"  # m/s\n",
    "Y_VELOCITY = \"yVelocity\"  # m/s\n",
    "X_ACCELERATION = \"xAcceleration\"  # m/s^2\n",
    "Y_ACCELERATION = \"yAcceleration\"  # m/s^2\n",
    "LON_VELOCITY = \"lonVelocity\"  # m/s\n",
    "LAT_VELOCITY = \"latVelocity\"  # m/s\n",
    "LON_ACCELERATION = \"lonAcceleration\"  # m/s^2\n",
    "LAT_ACCELERATION = \"latAcceleration\"  # m/s^2\n",
    "\n",
    "# STATIC FILE\n",
    "RECORDING_ID = \"recordingId\"  # -\n",
    "TRACK_ID = \"trackId\"  # -\n",
    "INITIAL_FRAME = \"initialFrame\"  # -\n",
    "FINAL_FRAME = \"finalFrame\"  # -\n",
    "NUM_FRAMES = \"numFrames\"  # -\n",
    "WIDTH = \"width\"  # m\n",
    "LENGTH = \"length\"  # m\n",
    "CLASS = \"class\"  # -\n",
    "\n",
    "# VIDEO META\n",
    "RECORDING_ID = \"recordingId\"  # -\n",
    "LOCATION_ID = \"locationId\"  # -\n",
    "FRAME_RATE = \"frameRate\"  # hz\n",
    "SPEED_LIMIT = \"speedLimit\"  # m/s\n",
    "WEEKDAY = \"weekday\"  # -\n",
    "START_TIME = \"startTime\"  # hh\n",
    "DURATION = \"duration\"  # s\n",
    "N_TRACKS = \"numTracks\"  # -\n",
    "N_VEHICLES = \"numVehicles\"  # -\n",
    "N_VRUS = 'numVRUs'  # -\n",
    "LAT_LOCATION = 'latLocation'  # deg\n",
    "LON_LOCATION = 'lonLocation'  # deg\n",
    "X_UTM_ORIGIN = 'xUtmOrigin'  # m\n",
    "Y_UTM_ORIGIN = 'yUtmOrigin'  # m\n",
    "ORTHO_PX_TO_METER = 'orthoPxToMeter'  # m/px"
   ]
  },
  {
   "cell_type": "code",
   "execution_count": 3,
   "metadata": {
    "code_folding": [
     0
    ]
   },
   "outputs": [],
   "source": [
    "# Function to read {}_recordingMeta.csv\n",
    "def read_meta_info(arguments):\n",
    "    \"\"\"\n",
    "    This method reads the video meta file from rounD data.\n",
    "    :param arguments: the parsed arguments for the program containing the input path for the video meta csv file.\n",
    "    :return: the meta dictionary containing the general information of the video\n",
    "    \"\"\"\n",
    "    # Read the csv file, convert it into a useful data structure\n",
    "    df = pd.read_csv(arguments[\"input_meta_path\"])\n",
    "\n",
    "    # Declare and initialize the extracted_meta_dictionary\n",
    "    extracted_meta_dictionary = {RECORDING_ID: int(df[RECORDING_ID][0]),\n",
    "                                 LOCATION_ID: int(df[LOCATION_ID][0]),\n",
    "                                 FRAME_RATE: int(df[FRAME_RATE][0]),\n",
    "                                 SPEED_LIMIT: float(df[SPEED_LIMIT][0]),\n",
    "                                 WEEKDAY: str(df[WEEKDAY][0]),\n",
    "                                 START_TIME: str(df[START_TIME][0]),\n",
    "                                 DURATION: float(df[DURATION][0]),\n",
    "                                 N_TRACKS: int(df[N_TRACKS][0]),\n",
    "                                 N_VEHICLES: int(df[N_VEHICLES][0]),\n",
    "                                 N_VRUS: int(df[N_VRUS][0]),\n",
    "                                 LAT_LOCATION: float(df[LAT_LOCATION][0]),\n",
    "                                 LON_LOCATION: float(df[LON_LOCATION][0]),\n",
    "                                 X_UTM_ORIGIN: float(df[X_UTM_ORIGIN][0]),\n",
    "                                 Y_UTM_ORIGIN: float(df[Y_UTM_ORIGIN][0]),\n",
    "                                 ORTHO_PX_TO_METER: float(df[ORTHO_PX_TO_METER][0])}\n",
    "    return extracted_meta_dictionary"
   ]
  },
  {
   "cell_type": "code",
   "execution_count": 4,
   "metadata": {
    "code_folding": [
     0
    ]
   },
   "outputs": [],
   "source": [
    "# Function to read {}_tracksMeta.csv\n",
    "def read_static_info(arguments):\n",
    "    \"\"\"\n",
    "    This method reads the static info file from rounD data.\n",
    "    :param arguments: the parsed arguments for the program containing the input path for the static csv file.\n",
    "    :return: the static dictionary - the key is the track_id and the value is the corresponding data for this track\n",
    "    \"\"\"\n",
    "    # Read the csv file, convert it into a useful data structure\n",
    "    df = pd.read_csv(arguments[\"input_static_path\"])\n",
    "\n",
    "    # Declare and initialize the static_dictionary\n",
    "    static_dictionary = {}\n",
    "\n",
    "    # Iterate over all rows of the csv because we need to create the bounding boxes for each row\n",
    "    for i_row in range(df.shape[0]):\n",
    "        track_id = int(df[TRACK_ID][i_row])\n",
    "        static_dictionary[track_id] = {TRACK_ID: track_id,\n",
    "                                       INITIAL_FRAME: int(df[INITIAL_FRAME][i_row]),\n",
    "                                       FINAL_FRAME: int(df[FINAL_FRAME][i_row]),\n",
    "                                       NUM_FRAMES: int(df[NUM_FRAMES][i_row]),\n",
    "                                       WIDTH: float(df[WIDTH][i_row]),\n",
    "                                       LENGTH: float(df[LENGTH][i_row]),\n",
    "                                       CLASS: str(df[CLASS][i_row])}\n",
    "    return static_dictionary"
   ]
  },
  {
   "cell_type": "code",
   "execution_count": 5,
   "metadata": {
    "code_folding": [
     0
    ]
   },
   "outputs": [],
   "source": [
    "# Function to read {}_track.csv\n",
    "def read_track_csv(arguments):\n",
    "    \"\"\"\n",
    "    This method reads the tracks file from rounD data.\n",
    "    :param arguments: the parsed arguments for the program containing the input path for the tracks csv file.\n",
    "    :return: a list containing all tracks as dictionaries.\n",
    "    \"\"\"\n",
    "    # Get some metainformation on the recording\n",
    "    meta = read_meta_info(arguments)\n",
    "    \n",
    "    # Read the csv file, convert it into a useful data structure\n",
    "    df = pd.read_csv(arguments[\"input_path\"])\n",
    "\n",
    "    # Use groupby to aggregate track info. Less error prone than iterating over the data.\n",
    "    grouped = df.groupby([TRACK_ID], sort=False)\n",
    "    # Efficiently pre-allocate an empty list of sufficient size\n",
    "    tracks = [None] * grouped.ngroups\n",
    "    current_track = 0\n",
    "    for group_id, rows in grouped:\n",
    "        bounding_boxes = np.transpose(np.array([rows[X_CENTER].values,\n",
    "                                                rows[Y_CENTER].values,\n",
    "                                                rows[WIDTH].values,\n",
    "                                                rows[LENGTH].values]))\n",
    "        tracks[current_track] = {RECORDING_ID: meta.get('recordingId'),\n",
    "                                 TRACK_ID: np.int64(group_id),  # for compatibility, int would be more space efficient\n",
    "                                 FRAME: rows[FRAME].values,\n",
    "                                 TRACK_LIFETIME: rows[TRACK_LIFETIME].values,\n",
    "                                 BBOX: bounding_boxes,\n",
    "                                 X_CENTER: rows[X_CENTER].values,\n",
    "                                 Y_CENTER: rows[Y_CENTER].values,\n",
    "                                 HEADING: rows[HEADING].values,\n",
    "                                 WIDTH: rows[WIDTH].values,\n",
    "                                 LENGTH: rows[LENGTH].values,\n",
    "                                 X_VELOCITY: rows[X_VELOCITY].values,\n",
    "                                 Y_VELOCITY: rows[Y_VELOCITY].values,\n",
    "                                 X_ACCELERATION: rows[X_ACCELERATION].values,\n",
    "                                 Y_ACCELERATION: rows[Y_ACCELERATION].values,\n",
    "                                 LON_VELOCITY: rows[LON_VELOCITY].values,\n",
    "                                 LAT_VELOCITY: rows[LAT_VELOCITY].values,\n",
    "                                 LON_ACCELERATION: rows[LON_ACCELERATION].values,\n",
    "                                 LAT_ACCELERATION: rows[LAT_ACCELERATION].values\n",
    "                                }\n",
    "        current_track = current_track + 1\n",
    "    return tracks"
   ]
  },
  {
   "cell_type": "code",
   "execution_count": 6,
   "metadata": {
    "code_folding": [
     0
    ]
   },
   "outputs": [],
   "source": [
    "# Function to read {}_background.png\n",
    "def read_background(arguments):\n",
    "    \"\"\"\n",
    "    This method reads the background file from rounD data.\n",
    "    :param arguments: the parsed arguments for the program containing the input path for the background file.\n",
    "    :return: the background image.\n",
    "    \"\"\"\n",
    "    return imageio.imread(arguments[\"input_img\"])"
   ]
  },
  {
   "cell_type": "markdown",
   "metadata": {},
   "source": [
    "## Load one file and explore it"
   ]
  },
  {
   "cell_type": "code",
   "execution_count": 7,
   "metadata": {},
   "outputs": [],
   "source": [
    "RECORDING_NUMBER = '00'\n",
    "\n",
    "argv = {\n",
    "    \"input_path\": f'./data/{RECORDING_NUMBER}_tracks.csv',\n",
    "    \"input_static_path\": f'./data/{RECORDING_NUMBER}_tracksMeta.csv',\n",
    "    \"input_meta_path\": f'./data/{RECORDING_NUMBER}_recordingMeta.csv',\n",
    "    \"input_img\": f'./data/{RECORDING_NUMBER}_background.png'\n",
    "}"
   ]
  },
  {
   "cell_type": "code",
   "execution_count": 8,
   "metadata": {},
   "outputs": [],
   "source": [
    "tracks = read_track_csv(argv)\n",
    "meta_tracks = read_meta_info(argv)\n",
    "info_tracks = read_static_info(argv)\n",
    "background = read_background(argv)"
   ]
  },
  {
   "cell_type": "code",
   "execution_count": 9,
   "metadata": {
    "code_folding": [
     0
    ]
   },
   "outputs": [],
   "source": [
    "def get_id(tracks, idx):\n",
    "    \"\"\"\n",
    "    This method returns the information about an particular id.\n",
    "    :param tracks: a list contaning all tracks as dictionary\n",
    "    :param idx: the index to return\n",
    "    :return: a dictionary containing information for a particular idx\"\"\"\n",
    "    l = [d for d in tracks if d[TRACK_ID] == idx]\n",
    "    return l[0]"
   ]
  },
  {
   "cell_type": "code",
   "execution_count": 10,
   "metadata": {
    "code_folding": [
     0
    ]
   },
   "outputs": [],
   "source": [
    "def norm(*args):\n",
    "    \"\"\"\n",
    "    Compute the norm of vectors\n",
    "    :param args: vectors\n",
    "    :return: norm\n",
    "    \"\"\"\n",
    "    return np.sqrt(np.sum([i**2 for i in args], axis=0))"
   ]
  },
  {
   "cell_type": "code",
   "execution_count": 12,
   "metadata": {
    "code_folding": [
     0
    ]
   },
   "outputs": [],
   "source": [
    "def plot_tracks(tracks, idx):\n",
    "    \"\"\"\n",
    "    This methods plots a particular track given an idx.\n",
    "    :param tracks: a list containing all tracks as dictionary\n",
    "    :param idx: the indices to plot\n",
    "    :return: matplotlib figure\n",
    "    \"\"\"\n",
    "    fig, axs = plt.subplots(1, 6, figsize=(15, 5))\n",
    "    \n",
    "    for i in idx:\n",
    "        track = get_id(tracks, i)\n",
    "        argvals = np.linspace(0, 1, np.size(track[X_VELOCITY]))\n",
    "        \n",
    "        axs[0].plot(argvals, track[X_CENTER])\n",
    "        axs[1].plot(argvals, track[Y_CENTER])\n",
    "        axs[2].plot(argvals, track[X_VELOCITY])\n",
    "        axs[3].plot(argvals, track[Y_VELOCITY])\n",
    "        axs[4].plot(argvals, track[X_ACCELERATION])\n",
    "        axs[5].plot(argvals, track[Y_ACCELERATION])\n",
    "    \n",
    "    axs[0].set_title('Longitudinal Position')\n",
    "    axs[0].set_xlabel('Normalized time')\n",
    "    axs[0].set_ylabel(r'X ($m$)')\n",
    "    \n",
    "    axs[1].set_title('Lateral Position')\n",
    "    axs[1].set_xlabel('Normalized time')\n",
    "    axs[1].set_ylabel(r'Y ($m$)')\n",
    "    \n",
    "    axs[2].set_title('Longitudinal Velocity')\n",
    "    axs[2].set_xlabel('Normalized time')\n",
    "    axs[2].set_ylabel(r'Velocity ($m/s$)')\n",
    "    \n",
    "    axs[3].set_title('Lateral Velocity')\n",
    "    axs[3].set_xlabel('Normalized time')\n",
    "    axs[3].set_ylabel(r'Velocity ($m/s$)')\n",
    "    \n",
    "    axs[4].set_title('Longitudinal Acceleration')\n",
    "    axs[4].set_xlabel('Normalized time')\n",
    "    axs[4].set_ylabel(r'Acceleration ($m/s^2$)')\n",
    "    \n",
    "    axs[5].set_title('Lateral Acceleration')\n",
    "    axs[5].set_xlabel('Normalized time')\n",
    "    axs[5].set_ylabel(r'Acceleration ($m/s^2$)')\n",
    "    \n",
    "    fig.tight_layout()\n",
    "    return fig, axs"
   ]
  },
  {
   "cell_type": "code",
   "execution_count": 13,
   "metadata": {},
   "outputs": [],
   "source": [
    "idx = np.random.randint(1, len(tracks), 5)"
   ]
  },
  {
   "cell_type": "code",
   "execution_count": 14,
   "metadata": {
    "scrolled": true
   },
   "outputs": [],
   "source": [
    "plot_tracks(tracks, idx)\n",
    "plt.savefig(f'./figures/recording_{RECORDING_NUMBER}/sample.pdf')"
   ]
  },
  {
   "cell_type": "markdown",
   "metadata": {},
   "source": [
    "## Visualization using the background image"
   ]
  },
  {
   "cell_type": "code",
   "execution_count": 15,
   "metadata": {
    "code_folding": [
     1,
     17,
     31
    ]
   },
   "outputs": [],
   "source": [
    "# Utility functions\n",
    "def cart2pol(cart):\n",
    "    \"\"\"\n",
    "    Transform cartesian to polar coordinates.\n",
    "    :param cart: Nx2 ndarray\n",
    "    :return: 2 Nx1 ndarrays\n",
    "    \"\"\"\n",
    "    if cart.shape == (2,):\n",
    "        cart = np.array([cart])\n",
    "\n",
    "    x = cart[:, 0]\n",
    "    y = cart[:, 1]\n",
    "\n",
    "    th = np.arctan2(y, x)\n",
    "    r = np.sqrt(np.power(x, 2) + np.power(y, 2))\n",
    "    return th, r\n",
    "\n",
    "def pol2cart(th, r):\n",
    "    \"\"\"\n",
    "    Transform polar to cartesian coordinates.\n",
    "    :param th: Nx1 ndarray\n",
    "    :param r: Nx1 ndarray\n",
    "    :return: Nx2 ndarray\n",
    "    \"\"\"\n",
    "\n",
    "    x = np.multiply(r, np.cos(th))\n",
    "    y = np.multiply(r, np.sin(th))\n",
    "\n",
    "    cart = np.array([x, y]).transpose()\n",
    "    return cart\n",
    "\n",
    "def calculate_rotated_bboxes(center_points_x, center_points_y, length, width, rotation=0):\n",
    "    \"\"\"\n",
    "    Calculate bounding box vertices from centroid, width and length.\n",
    "    :param centroid: center point of bbox\n",
    "    :param length: length of bbox\n",
    "    :param width: width of bbox\n",
    "    :param rotation: rotation of main bbox axis (along length)\n",
    "    :return:\n",
    "    \"\"\"\n",
    "\n",
    "    centroid = np.array([center_points_x, center_points_y]).transpose()\n",
    "\n",
    "    centroid = np.array(centroid)\n",
    "    if centroid.shape == (2,):\n",
    "        centroid = np.array([centroid])\n",
    "\n",
    "    # Preallocate\n",
    "    data_length = centroid.shape[0]\n",
    "    rotated_bbox_vertices = np.empty((data_length, 4, 2))\n",
    "\n",
    "    # Calculate rotated bounding box vertices\n",
    "    rotated_bbox_vertices[:, 0, 0] = -length / 2\n",
    "    rotated_bbox_vertices[:, 0, 1] = -width / 2\n",
    "\n",
    "    rotated_bbox_vertices[:, 1, 0] = length / 2\n",
    "    rotated_bbox_vertices[:, 1, 1] = -width / 2\n",
    "\n",
    "    rotated_bbox_vertices[:, 2, 0] = length / 2\n",
    "    rotated_bbox_vertices[:, 2, 1] = width / 2\n",
    "\n",
    "    rotated_bbox_vertices[:, 3, 0] = -length / 2\n",
    "    rotated_bbox_vertices[:, 3, 1] = width / 2\n",
    "\n",
    "    for i in range(4):\n",
    "        th, r = cart2pol(rotated_bbox_vertices[:, i, :])\n",
    "        rotated_bbox_vertices[:, i, :] = pol2cart(th + rotation, r).squeeze()\n",
    "        rotated_bbox_vertices[:, i, :] = rotated_bbox_vertices[:, i, :] + centroid\n",
    "\n",
    "    return rotated_bbox_vertices"
   ]
  },
  {
   "cell_type": "code",
   "execution_count": 19,
   "metadata": {
    "code_folding": [
     0,
     39
    ]
   },
   "outputs": [],
   "source": [
    "def plot_trajectories_vel(tracks, idx, img, meta_tracks, sdf=10, skip_frame=10):\n",
    "    \"\"\"\n",
    "    This methods plots a particular trajectory given an idx.\n",
    "    :param tracks: a list containing all tracks as dictionary\n",
    "    :param idx: the indices to plot\n",
    "    :param img: the background image\n",
    "    :param sdf: scale down factor (default=10)\n",
    "    :param skip_frame: number of frames to skip for plotting (defualt=10)\n",
    "    :return: matplotlib figure\n",
    "    \"\"\"\n",
    "    # Set parameters\n",
    "    ortho_px_to_meter = meta_tracks[ORTHO_PX_TO_METER]\n",
    "    scale_down_factor = sdf\n",
    "    \n",
    "    # Define the figure\n",
    "    fig, axs = plt.subplots(1, 1)\n",
    "    fig.set_size_inches(18, 8)\n",
    "    \n",
    "    j = 0\n",
    "    for i in idx:\n",
    "        track = get_id(tracks, i)\n",
    "\n",
    "        # Define a dictionary for plotting\n",
    "        track_vis = {}\n",
    "        track_vis[\"xCenterVis\"] = track[X_CENTER][::skip_frame] / ortho_px_to_meter / scale_down_factor\n",
    "        track_vis[\"yCenterVis\"] = -track[Y_CENTER][::skip_frame] / ortho_px_to_meter / scale_down_factor\n",
    "    \n",
    "        p = axs.plot(track_vis[\"xCenterVis\"],\n",
    "                     track_vis[\"yCenterVis\"],\n",
    "                     color=COLORS[j], linewidth=5, alpha=0.75)\n",
    "        for x, y, vx, vy in zip(track_vis[\"xCenterVis\"], track_vis[\"yCenterVis\"],\n",
    "                                track[X_VELOCITY][::skip_frame], -track[Y_VELOCITY][::skip_frame]):\n",
    "            p = axs.arrow(x, y, 10*vx, 10*vy, color=COLORS[j], head_width=10, head_length=10)\n",
    "        j = j + 1\n",
    "        \n",
    "    axs.imshow(img)\n",
    "    fig.tight_layout()\n",
    "    return fig, axs\n",
    "\n",
    "def plot_trajectories_acc(tracks, idx, img, meta_tracks, sdf=10, skip_frame=10):\n",
    "    \"\"\"\n",
    "    This methods plots a particular trajectory given an idx.\n",
    "    :param tracks: a list containing all tracks as dictionary\n",
    "    :param idx: the indices to plot\n",
    "    :param img: the background image\n",
    "    :param sdf: scale down factor (default=10)\n",
    "    :param skip_frame: number of frames to skip for plotting (defualt=10)\n",
    "    :return: matplotlib figure\n",
    "    \"\"\"\n",
    "    # Set parameters\n",
    "    ortho_px_to_meter = meta_tracks[ORTHO_PX_TO_METER]\n",
    "    scale_down_factor = sdf\n",
    "    \n",
    "    # Define the figure\n",
    "    fig, axs = plt.subplots(1, 1)\n",
    "    fig.set_size_inches(18, 8)\n",
    "    \n",
    "    j = 0\n",
    "    for i in idx:\n",
    "        track = get_id(tracks, i)\n",
    "\n",
    "        # Define a dictionary for plotting\n",
    "        track_vis = {}\n",
    "        track_vis[\"xCenterVis\"] = track[X_CENTER][::skip_frame] / ortho_px_to_meter / scale_down_factor\n",
    "        track_vis[\"yCenterVis\"] = -track[Y_CENTER][::skip_frame] / ortho_px_to_meter / scale_down_factor\n",
    "    \n",
    "        q = axs.plot(track_vis[\"xCenterVis\"],\n",
    "                     track_vis[\"yCenterVis\"],\n",
    "                     color=COLORS[j], linewidth=5, alpha=0.75)\n",
    "        for x, y, ax, ay in zip(track_vis[\"xCenterVis\"], track_vis[\"yCenterVis\"],\n",
    "                                track[X_ACCELERATION][::skip_frame], -track[Y_ACCELERATION][::skip_frame]):\n",
    "            q = axs.arrow(x, y, 10*ax, 10*ay, color=COLORS[j], head_width=10, head_length=10)\n",
    "        j = j + 1\n",
    "\n",
    "    axs.imshow(img)\n",
    "    fig.tight_layout()\n",
    "    return fig, axs"
   ]
  },
  {
   "cell_type": "code",
   "execution_count": 21,
   "metadata": {},
   "outputs": [],
   "source": [
    "_ = plot_trajectories_vel(tracks, idx, background, meta_tracks, sdf=10, skip_frame=15)\n",
    "plt.savefig(f'./figures/recording_{RECORDING_NUMBER}/sample_roundabout_vel.pdf')"
   ]
  },
  {
   "cell_type": "code",
   "execution_count": 22,
   "metadata": {},
   "outputs": [],
   "source": [
    "_ = plot_trajectories_acc(tracks, idx, background, meta_tracks, sdf=10, skip_frame=15)\n",
    "plt.savefig(f'./figures/recording_{RECORDING_NUMBER}/sample_roundabout_acc.pdf')"
   ]
  },
  {
   "cell_type": "markdown",
   "metadata": {},
   "source": [
    "## Save only X, Y, xVelocity, yVelocity, xAcceleration and yAcceleration into a pickle file"
   ]
  },
  {
   "cell_type": "code",
   "execution_count": 17,
   "metadata": {},
   "outputs": [],
   "source": [
    "# Save track as .pkl\n",
    "pd.to_pickle(tracks, f\"./data/processed/recording_{RECORDING_NUMBER}/tracks.pkl\")\n",
    "pd.to_pickle(meta_tracks, f\"./data/processed/recording_{RECORDING_NUMBER}/meta.pkl\")\n",
    "pd.to_pickle(info_tracks, f\"./data/processed/recording_{RECORDING_NUMBER}/info.pkl\")"
   ]
  }
 ],
 "metadata": {
  "kernelspec": {
   "display_name": "Python 3",
   "language": "python",
   "name": "python3"
  },
  "language_info": {
   "codemirror_mode": {
    "name": "ipython",
    "version": 3
   },
   "file_extension": ".py",
   "mimetype": "text/x-python",
   "name": "python",
   "nbconvert_exporter": "python",
   "pygments_lexer": "ipython3",
   "version": "3.7.0"
  },
  "varInspector": {
   "cols": {
    "lenName": 16,
    "lenType": 16,
    "lenVar": 40
   },
   "kernels_config": {
    "python": {
     "delete_cmd_postfix": "",
     "delete_cmd_prefix": "del ",
     "library": "var_list.py",
     "varRefreshCmd": "print(var_dic_list())"
    },
    "r": {
     "delete_cmd_postfix": ") ",
     "delete_cmd_prefix": "rm(",
     "library": "var_list.r",
     "varRefreshCmd": "cat(var_dic_list()) "
    }
   },
   "types_to_exclude": [
    "module",
    "function",
    "builtin_function_or_method",
    "instance",
    "_Feature"
   ],
   "window_display": false
  }
 },
 "nbformat": 4,
 "nbformat_minor": 4
}
