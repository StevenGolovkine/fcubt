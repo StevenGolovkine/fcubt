{
 "cells": [
  {
   "cell_type": "markdown",
   "metadata": {},
   "source": [
    "# Cluster the data using FCUBT"
   ]
  },
  {
   "cell_type": "code",
   "execution_count": 1,
   "metadata": {},
   "outputs": [],
   "source": [
    "# Load packages\n",
    "import os\n",
    "\n",
    "import matplotlib.pyplot as plt\n",
    "import matplotlib.colors as mcolors\n",
    "import numpy as np\n",
    "import pandas as pd\n",
    "import seaborn as sns\n",
    "\n",
    "from FDApy.clustering.fcubt import Node, FCUBT\n",
    "from FDApy.misc import utils\n",
    "from FDApy.preprocessing.dim_reduction.fpca import MFPCA, UFPCA\n",
    "from FDApy.preprocessing.smoothing import local_polynomial\n",
    "from FDApy.representation.functional_data import DenseFunctionalData\n",
    "from FDApy.representation.functional_data import IrregularFunctionalData\n",
    "from FDApy.representation.functional_data import MultivariateFunctionalData\n",
    "from FDApy.visualization.plot import plot\n",
    "\n",
    "from sklearn import metrics, preprocessing\n",
    "from scipy.integrate import simps\n",
    "\n",
    "color = list(mcolors.XKCD_COLORS.values())\n",
    "\n",
    "RECORDING_NUMBER = '00'\n",
    "VAR = ['x', 'y', 'xVelocity', 'yVelocity', 'xAcceleration', 'yAcceleration']"
   ]
  },
  {
   "cell_type": "code",
   "execution_count": 2,
   "metadata": {},
   "outputs": [],
   "source": [
    "# Load data\n",
    "data_fd = pd.read_pickle(f'./data/tracks_smooth_fd.pkl')"
   ]
  },
  {
   "cell_type": "code",
   "execution_count": 3,
   "metadata": {},
   "outputs": [
    {
     "data": {
      "text/plain": [
       "Multivariate functional data object with 6 functions of 310 observations."
      ]
     },
     "execution_count": 3,
     "metadata": {},
     "output_type": "execute_result"
    }
   ],
   "source": [
    "# Print data\n",
    "data_fd"
   ]
  },
  {
   "cell_type": "markdown",
   "metadata": {},
   "source": [
    "## Perform clustering"
   ]
  },
  {
   "cell_type": "code",
   "execution_count": 4,
   "metadata": {},
   "outputs": [],
   "source": [
    "root_node = Node(data_fd, is_root=True)\n",
    "fcubt = FCUBT(root_node=root_node)"
   ]
  },
  {
   "cell_type": "code",
   "execution_count": 5,
   "metadata": {},
   "outputs": [
    {
     "name": "stdout",
     "output_type": "stream",
     "text": [
      "CPU times: user 3min 52s, sys: 33.2 s, total: 4min 25s\n",
      "Wall time: 2min 4s\n"
     ]
    }
   ],
   "source": [
    "%%time\n",
    "fcubt.grow(n_components=[1, 1, 1, 1, 1, 1], min_size=20, max_group=3)"
   ]
  },
  {
   "cell_type": "code",
   "execution_count": 6,
   "metadata": {},
   "outputs": [
    {
     "data": {
      "text/plain": [
       "{Node(id=(4, 0), is_root=False, is_leaf=True): 0,\n",
       " Node(id=(4, 1), is_root=False, is_leaf=True): 1,\n",
       " Node(id=(4, 2), is_root=False, is_leaf=True): 2,\n",
       " Node(id=(4, 3), is_root=False, is_leaf=True): 3,\n",
       " Node(id=(4, 4), is_root=False, is_leaf=True): 4,\n",
       " Node(id=(4, 5), is_root=False, is_leaf=True): 5,\n",
       " Node(id=(4, 6), is_root=False, is_leaf=True): 6,\n",
       " Node(id=(4, 11), is_root=False, is_leaf=True): 7,\n",
       " Node(id=(4, 14), is_root=False, is_leaf=True): 8,\n",
       " Node(id=(4, 15), is_root=False, is_leaf=True): 9,\n",
       " Node(id=(5, 15), is_root=False, is_leaf=True): 10,\n",
       " Node(id=(5, 16), is_root=False, is_leaf=True): 11,\n",
       " Node(id=(5, 17), is_root=False, is_leaf=True): 12,\n",
       " Node(id=(5, 18), is_root=False, is_leaf=True): 13,\n",
       " Node(id=(5, 19), is_root=False, is_leaf=True): 14,\n",
       " Node(id=(5, 20), is_root=False, is_leaf=True): 15,\n",
       " Node(id=(5, 21), is_root=False, is_leaf=True): 16,\n",
       " Node(id=(5, 24), is_root=False, is_leaf=True): 17,\n",
       " Node(id=(5, 26), is_root=False, is_leaf=True): 18,\n",
       " Node(id=(5, 27), is_root=False, is_leaf=True): 19,\n",
       " Node(id=(6, 28), is_root=False, is_leaf=True): 20,\n",
       " Node(id=(6, 29), is_root=False, is_leaf=True): 21,\n",
       " Node(id=(6, 50), is_root=False, is_leaf=True): 22,\n",
       " Node(id=(6, 51), is_root=False, is_leaf=True): 23}"
      ]
     },
     "execution_count": 6,
     "metadata": {},
     "output_type": "execute_result"
    }
   ],
   "source": [
    "fcubt.mapping_grow"
   ]
  },
  {
   "cell_type": "code",
   "execution_count": 7,
   "metadata": {},
   "outputs": [],
   "source": [
    "fcubt.join(n_components=[1, 1, 1, 1, 1, 1])"
   ]
  },
  {
   "cell_type": "code",
   "execution_count": 8,
   "metadata": {},
   "outputs": [
    {
     "data": {
      "text/plain": [
       "{Node(id=(4, 0), is_root=False, is_leaf=True): 0,\n",
       " Node(id=(4, 1), is_root=False, is_leaf=True): 1,\n",
       " Node(id=(4, 2), is_root=False, is_leaf=True): 2,\n",
       " Node(id=(4, 3), is_root=False, is_leaf=True): 3,\n",
       " Node(id=(4, 4), is_root=False, is_leaf=True): 4,\n",
       " Node(id=(4, 5), is_root=False, is_leaf=True): 5,\n",
       " Node(id=(4, 6), is_root=False, is_leaf=True): 6,\n",
       " Node(id=(4, 11), is_root=False, is_leaf=True): 7,\n",
       " Node(id=(4, 14), is_root=False, is_leaf=True): 8,\n",
       " Node(id=(4, 15), is_root=False, is_leaf=True): 9,\n",
       " Node(id=(5, 15), is_root=False, is_leaf=True): 10,\n",
       " Node(id=(5, 16), is_root=False, is_leaf=True): 11,\n",
       " Node(id=(5, 17), is_root=False, is_leaf=True): 12,\n",
       " Node(id=(5, 18), is_root=False, is_leaf=True): 13,\n",
       " Node(id=(5, 19), is_root=False, is_leaf=True): 14,\n",
       " Node(id=(5, 20), is_root=False, is_leaf=True): 15,\n",
       " Node(id=(5, 21), is_root=False, is_leaf=True): 16,\n",
       " Node(id=(5, 26), is_root=False, is_leaf=True): 17,\n",
       " Node(id=(6, 28), is_root=False, is_leaf=True): 18,\n",
       " Node(id=(6, 29), is_root=False, is_leaf=True): 19,\n",
       " Node(id=(6, 50), is_root=False, is_leaf=True): 20,\n",
       " Node(id=(6, 51), is_root=False, is_leaf=True): 21,\n",
       " Node(id=[(5, 24), (5, 27)], is_root=False, is_leaf=True): 22}"
      ]
     },
     "execution_count": 8,
     "metadata": {},
     "output_type": "execute_result"
    }
   ],
   "source": [
    "fcubt.mapping_join"
   ]
  },
  {
   "cell_type": "code",
   "execution_count": 9,
   "metadata": {},
   "outputs": [],
   "source": [
    "# Save the tree\n",
    "pd.to_pickle(fcubt, f'./data/tree.pkl')"
   ]
  },
  {
   "cell_type": "code",
   "execution_count": 10,
   "metadata": {},
   "outputs": [],
   "source": [
    "# Save clustering results\n",
    "pd.to_pickle(fcubt.labels_join, f'./data/fcubt_results.pkl')"
   ]
  }
 ],
 "metadata": {
  "kernelspec": {
   "display_name": "Python 3 (ipykernel)",
   "language": "python",
   "name": "python3"
  },
  "language_info": {
   "codemirror_mode": {
    "name": "ipython",
    "version": 3
   },
   "file_extension": ".py",
   "mimetype": "text/x-python",
   "name": "python",
   "nbconvert_exporter": "python",
   "pygments_lexer": "ipython3",
   "version": "3.9.6"
  },
  "varInspector": {
   "cols": {
    "lenName": 16,
    "lenType": 16,
    "lenVar": 40
   },
   "kernels_config": {
    "python": {
     "delete_cmd_postfix": "",
     "delete_cmd_prefix": "del ",
     "library": "var_list.py",
     "varRefreshCmd": "print(var_dic_list())"
    },
    "r": {
     "delete_cmd_postfix": ") ",
     "delete_cmd_prefix": "rm(",
     "library": "var_list.r",
     "varRefreshCmd": "cat(var_dic_list()) "
    }
   },
   "types_to_exclude": [
    "module",
    "function",
    "builtin_function_or_method",
    "instance",
    "_Feature"
   ],
   "window_display": false
  }
 },
 "nbformat": 4,
 "nbformat_minor": 4
}
