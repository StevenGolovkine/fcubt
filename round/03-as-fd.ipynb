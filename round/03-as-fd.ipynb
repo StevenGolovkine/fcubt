{
 "cells": [
  {
   "cell_type": "markdown",
   "metadata": {},
   "source": [
    "# Convert the data into functional data format"
   ]
  },
  {
   "cell_type": "code",
   "execution_count": 1,
   "metadata": {},
   "outputs": [],
   "source": [
    "# Load packages\n",
    "import matplotlib.pyplot as plt\n",
    "import numpy as np\n",
    "import pandas as pd\n",
    "\n",
    "from FDApy.misc import utils\n",
    "from FDApy.preprocessing.smoothing.bandwidth import Bandwidth\n",
    "from FDApy.representation.functional_data import DenseFunctionalData\n",
    "from FDApy.representation.functional_data import IrregularFunctionalData\n",
    "from FDApy.representation.functional_data import MultivariateFunctionalData\n",
    "from FDApy.visualization.plot import plot\n",
    "\n",
    "RECORDING_NUMBER = '00'"
   ]
  },
  {
   "cell_type": "code",
   "execution_count": 2,
   "metadata": {},
   "outputs": [],
   "source": [
    "# Load data\n",
    "tracks = pd.read_pickle(f'./data/tracks_sub.pkl')\n",
    "info = pd.read_pickle(f'./data/info.pkl')\n",
    "meta = pd.read_pickle(f'./data/meta.pkl')"
   ]
  },
  {
   "cell_type": "markdown",
   "metadata": {},
   "source": [
    "The different keys in the dictionnary data are: `recordingId`, `trackId`, `xCenter`, `yCenter`, `xVelocity`, `yVelocity`, `xAcceleration`, `yAcceleration`, ..."
   ]
  },
  {
   "cell_type": "code",
   "execution_count": 4,
   "metadata": {},
   "outputs": [],
   "source": [
    "# Function to retrieve particular key\n",
    "def get_key(l, key_name):\n",
    "    \"\"\"\n",
    "    This method subset a list of dictionnary using a particular key.\n",
    "    :param l: a list of dictionnary to subset.\n",
    "    :param key_name: the name of the key to retrieve as string.\n",
    "    :return: a list with the key as numpy array. \n",
    "    \"\"\"\n",
    "    return [x[key_name] for x in l]"
   ]
  },
  {
   "cell_type": "code",
   "execution_count": 5,
   "metadata": {},
   "outputs": [],
   "source": [
    "x = get_key(tracks, 'xCenter')\n",
    "y = get_key(tracks, 'yCenter')\n",
    "xVelocity = get_key(tracks, 'xVelocity')\n",
    "yVelocity = get_key(tracks, 'yVelocity')\n",
    "xAcceleration = get_key(tracks, 'xAcceleration')\n",
    "yAcceleration = get_key(tracks, 'yAcceleration')"
   ]
  },
  {
   "cell_type": "code",
   "execution_count": 6,
   "metadata": {},
   "outputs": [
    {
     "name": "stdout",
     "output_type": "stream",
     "text": [
      "The mean number of sampling points in a curve is 382.31935483870967.\n"
     ]
    }
   ],
   "source": [
    "print(f\"\"\"The mean number of sampling points in a curve is\\\n",
    " {np.mean([len(x) for x in xVelocity])}.\"\"\")"
   ]
  },
  {
   "cell_type": "code",
   "execution_count": 7,
   "metadata": {},
   "outputs": [],
   "source": [
    "# Function to create IrregularFunctionalData\n",
    "def create_argvals(l):\n",
    "    \"\"\"\n",
    "    This method creates a dictionary of argvals.\n",
    "    :param l: a list\n",
    "    :return: a dictionary\n",
    "    \"\"\"\n",
    "    return {idx: np.linspace(0, 1, num=len(x)) for idx, x in enumerate(l)}\n",
    "\n",
    "def create_values(l):\n",
    "    \"\"\"\n",
    "    This method creates a dictionary of values.\n",
    "    :param l: a list\n",
    "    :return: a dictionary\n",
    "    \"\"\"\n",
    "    return {idx: x for idx, x in enumerate(l)}"
   ]
  },
  {
   "cell_type": "code",
   "execution_count": 8,
   "metadata": {},
   "outputs": [],
   "source": [
    "# Create IrregularFunctionalData\n",
    "x_fd = IrregularFunctionalData({'input_dim_0': create_argvals(x)}, create_values(x))\n",
    "y_fd = IrregularFunctionalData({'input_dim_0': create_argvals(y)}, create_values(y))\n",
    "xVelocity_fd = IrregularFunctionalData({'input_dim_0': create_argvals(xVelocity)}, create_values(xVelocity))\n",
    "yVelocity_fd = IrregularFunctionalData({'input_dim_0': create_argvals(yVelocity)}, create_values(yVelocity))\n",
    "xAcceleration_fd = IrregularFunctionalData({'input_dim_0': create_argvals(xAcceleration)}, create_values(xAcceleration))\n",
    "yAcceleration_fd = IrregularFunctionalData({'input_dim_0': create_argvals(yAcceleration)}, create_values(yAcceleration))"
   ]
  },
  {
   "cell_type": "markdown",
   "metadata": {},
   "source": [
    "## Save the data"
   ]
  },
  {
   "cell_type": "code",
   "execution_count": 15,
   "metadata": {},
   "outputs": [
    {
     "name": "stdout",
     "output_type": "stream",
     "text": [
      "CPU times: user 36.8 ms, sys: 28.5 ms, total: 65.3 ms\n",
      "Wall time: 120 ms\n"
     ]
    }
   ],
   "source": [
    "%%time\n",
    "# x\n",
    "pd.to_pickle(x_fd, f'./data/x_fd.pkl')\n",
    "\n",
    "# y\n",
    "pd.to_pickle(y_fd, f'./data/y_fd.pkl')\n",
    "\n",
    "# xVelocity\n",
    "pd.to_pickle(xVelocity_fd, f'./data/xVelocity_fd.pkl')\n",
    "\n",
    "# yVelocity\n",
    "pd.to_pickle(yVelocity_fd, f'./data/yVelocity_fd.pkl')\n",
    "\n",
    "# xAcceleration\n",
    "pd.to_pickle(xAcceleration_fd, f'./data/xAcceleration_fd.pkl')\n",
    "\n",
    "# yAcceleration\n",
    "pd.to_pickle(yAcceleration_fd, f'./data/yAcceleration_fd.pkl')"
   ]
  },
  {
   "cell_type": "markdown",
   "metadata": {},
   "source": [
    "## Multivariate functional data"
   ]
  },
  {
   "cell_type": "code",
   "execution_count": 16,
   "metadata": {},
   "outputs": [],
   "source": [
    "# Build the multivariate functional data\n",
    "data_fd = MultivariateFunctionalData([x_fd, \n",
    "                                      y_fd,\n",
    "                                      xVelocity_fd,\n",
    "                                      yVelocity_fd,\n",
    "                                      xAcceleration_fd,\n",
    "                                      yAcceleration_fd])"
   ]
  },
  {
   "cell_type": "code",
   "execution_count": 17,
   "metadata": {},
   "outputs": [],
   "source": [
    "# Save the functional data object\n",
    "pd.to_pickle(data_fd, f'./data/tracks_fd.pkl')"
   ]
  }
 ],
 "metadata": {
  "kernelspec": {
   "display_name": "Python 3 (ipykernel)",
   "language": "python",
   "name": "python3"
  },
  "language_info": {
   "codemirror_mode": {
    "name": "ipython",
    "version": 3
   },
   "file_extension": ".py",
   "mimetype": "text/x-python",
   "name": "python",
   "nbconvert_exporter": "python",
   "pygments_lexer": "ipython3",
   "version": "3.9.6"
  },
  "varInspector": {
   "cols": {
    "lenName": 16,
    "lenType": 16,
    "lenVar": 40
   },
   "kernels_config": {
    "python": {
     "delete_cmd_postfix": "",
     "delete_cmd_prefix": "del ",
     "library": "var_list.py",
     "varRefreshCmd": "print(var_dic_list())"
    },
    "r": {
     "delete_cmd_postfix": ") ",
     "delete_cmd_prefix": "rm(",
     "library": "var_list.r",
     "varRefreshCmd": "cat(var_dic_list()) "
    }
   },
   "types_to_exclude": [
    "module",
    "function",
    "builtin_function_or_method",
    "instance",
    "_Feature"
   ],
   "window_display": false
  }
 },
 "nbformat": 4,
 "nbformat_minor": 4
}
