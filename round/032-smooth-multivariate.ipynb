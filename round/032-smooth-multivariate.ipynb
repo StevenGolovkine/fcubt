{
 "cells": [
  {
   "cell_type": "markdown",
   "metadata": {},
   "source": [
    "# Smooth multivariate data\n"
   ]
  },
  {
   "cell_type": "code",
   "execution_count": 1,
   "metadata": {},
   "outputs": [],
   "source": [
    "# Load packages\n",
    "import matplotlib.pyplot as plt\n",
    "import numpy as np\n",
    "import pandas as pd\n",
    "\n",
    "from FDApy.preprocessing.smoothing.bandwidth import Bandwidth\n",
    "from FDApy.misc import utils\n",
    "from FDApy.representation.functional_data import DenseFunctionalData\n",
    "from FDApy.representation.functional_data import IrregularFunctionalData\n",
    "from FDApy.representation.functional_data import MultivariateFunctionalData\n",
    "from FDApy.visualization.plot import plot\n",
    "\n",
    "from scipy.interpolate import CubicSpline\n",
    "\n",
    "RECORDING_NUMBER = '00'"
   ]
  },
  {
   "cell_type": "code",
   "execution_count": 2,
   "metadata": {},
   "outputs": [],
   "source": [
    "# Load data \n",
    "x_smooth_fd = pd.read_pickle(f'./data/processed/recording_{RECORDING_NUMBER}/x_smooth_fd.pkl')\n",
    "y_smooth_fd = pd.read_pickle(f'./data/processed/recording_{RECORDING_NUMBER}/y_smooth_fd.pkl')\n",
    "xVelocity_smooth_fd = pd.read_pickle(f'./data/processed/recording_{RECORDING_NUMBER}/xVelocity_smooth_fd.pkl')\n",
    "yVelocity_smooth_fd = pd.read_pickle(f'./data/processed/recording_{RECORDING_NUMBER}/yVelocity_smooth_fd.pkl')\n",
    "xAcceleration_smooth_fd = pd.read_pickle(f'./data/processed/recording_{RECORDING_NUMBER}/xAcceleration_smooth_fd.pkl')\n",
    "yAcceleration_smooth_fd = pd.read_pickle(f'./data/processed/recording_{RECORDING_NUMBER}/yAcceleration_smooth_fd.pkl')"
   ]
  },
  {
   "cell_type": "code",
   "execution_count": 3,
   "metadata": {},
   "outputs": [],
   "source": [
    "# Create multivariate functional data\n",
    "data_fd = MultivariateFunctionalData([x_smooth_fd, y_smooth_fd, \n",
    "                                      xVelocity_smooth_fd, yVelocity_smooth_fd, \n",
    "                                      xAcceleration_smooth_fd, yAcceleration_smooth_fd])"
   ]
  },
  {
   "cell_type": "code",
   "execution_count": 4,
   "metadata": {},
   "outputs": [],
   "source": [
    "# Save the smoothed data\n",
    "pd.to_pickle(data_fd, f'./data/processed/recording_{RECORDING_NUMBER}/tracks_smooth_fd.pkl')"
   ]
  }
 ],
 "metadata": {
  "kernelspec": {
   "display_name": "Python 3",
   "language": "python",
   "name": "python3"
  },
  "language_info": {
   "codemirror_mode": {
    "name": "ipython",
    "version": 3
   },
   "file_extension": ".py",
   "mimetype": "text/x-python",
   "name": "python",
   "nbconvert_exporter": "python",
   "pygments_lexer": "ipython3",
   "version": "3.7.0"
  },
  "varInspector": {
   "cols": {
    "lenName": 16,
    "lenType": 16,
    "lenVar": 40
   },
   "kernels_config": {
    "python": {
     "delete_cmd_postfix": "",
     "delete_cmd_prefix": "del ",
     "library": "var_list.py",
     "varRefreshCmd": "print(var_dic_list())"
    },
    "r": {
     "delete_cmd_postfix": ") ",
     "delete_cmd_prefix": "rm(",
     "library": "var_list.r",
     "varRefreshCmd": "cat(var_dic_list()) "
    }
   },
   "types_to_exclude": [
    "module",
    "function",
    "builtin_function_or_method",
    "instance",
    "_Feature"
   ],
   "window_display": false
  }
 },
 "nbformat": 4,
 "nbformat_minor": 4
}
