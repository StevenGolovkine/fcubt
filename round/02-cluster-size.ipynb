{
 "cells": [
  {
   "cell_type": "markdown",
   "metadata": {},
   "source": [
    "# Remove some observations\n",
    "\n",
    "We choose to remove the observations that are pedestrians or bicycle. We also remove the observations with less than $200$ or more than $800$ measurements points."
   ]
  },
  {
   "cell_type": "code",
   "execution_count": 1,
   "metadata": {},
   "outputs": [],
   "source": [
    "# Load packages\n",
    "import glob\n",
    "import matplotlib.pyplot as plt\n",
    "import numpy as np\n",
    "import pandas as pd\n",
    "import seaborn as sns\n",
    "\n",
    "from sklearn.mixture import GaussianMixture\n",
    "\n",
    "RECORDING_NUMBER = '00'"
   ]
  },
  {
   "cell_type": "code",
   "execution_count": 2,
   "metadata": {},
   "outputs": [],
   "source": [
    "# Load data\n",
    "tracks = pd.read_pickle(f'./data/processed/recording_{RECORDING_NUMBER}/tracks.pkl')\n",
    "info = pd.read_pickle(f'./data/processed/recording_{RECORDING_NUMBER}/info.pkl')\n",
    "meta = pd.read_pickle(f'./data/processed/recording_{RECORDING_NUMBER}/meta.pkl')"
   ]
  },
  {
   "cell_type": "code",
   "execution_count": 3,
   "metadata": {},
   "outputs": [
    {
     "name": "stdout",
     "output_type": "stream",
     "text": [
      "There are 348 observations in the dataset.\n"
     ]
    }
   ],
   "source": [
    "print(f'There are {len(tracks)} observations in the dataset.')"
   ]
  },
  {
   "cell_type": "markdown",
   "metadata": {},
   "source": [
    "### Get only observations that correspond to vehicle"
   ]
  },
  {
   "cell_type": "code",
   "execution_count": 4,
   "metadata": {},
   "outputs": [],
   "source": [
    "# all_vehicles = ['bicycle', 'bus', 'car', 'motorcycle', 'pedestrian', 'trailer', 'truck', 'van']\n",
    "vehicles = ['bus', 'car', 'motorcycle', 'trailer', 'truck', 'van']\n",
    "\n",
    "vehicle_track_id = []\n",
    "for track in info.values():\n",
    "    if track['class'] in vehicles:\n",
    "        vehicle_track_id.append(track['trackId'])"
   ]
  },
  {
   "cell_type": "code",
   "execution_count": 5,
   "metadata": {},
   "outputs": [],
   "source": [
    "tracks_vehicle = []\n",
    "for track in tracks:\n",
    "    if track['trackId'] in vehicle_track_id:\n",
    "        tracks_vehicle.append(track)"
   ]
  },
  {
   "cell_type": "markdown",
   "metadata": {},
   "source": [
    "### Get the length of each observations"
   ]
  },
  {
   "cell_type": "code",
   "execution_count": 6,
   "metadata": {},
   "outputs": [
    {
     "name": "stdout",
     "output_type": "stream",
     "text": [
      "There are 328 observations in the dataset with vehicles.\n"
     ]
    }
   ],
   "source": [
    "print(f'There are {len(tracks_vehicle)} observations in the dataset with vehicles.')"
   ]
  },
  {
   "cell_type": "code",
   "execution_count": 7,
   "metadata": {},
   "outputs": [],
   "source": [
    "tracks_len = np.array([len(track['xVelocity']) for track in tracks_vehicle])"
   ]
  },
  {
   "cell_type": "code",
   "execution_count": 8,
   "metadata": {},
   "outputs": [
    {
     "data": {
      "image/png": "[encoded data removed]",
      "text/plain": [
       "<Figure size 432x288 with 1 Axes>"
      ]
     },
     "metadata": {
      "needs_background": "light"
     },
     "output_type": "display_data"
    }
   ],
   "source": [
    "# Plot the density of the length\n",
    "sns.distplot(tracks_len, bins = 200)\n",
    "plt.vlines(200, ymin=0, ymax=0.003, colors='red')\n",
    "plt.vlines(800, ymin=0, ymax=0.003, colors='red')\n",
    "plt.show()"
   ]
  },
  {
   "cell_type": "code",
   "execution_count": 9,
   "metadata": {},
   "outputs": [
    {
     "name": "stdout",
     "output_type": "stream",
     "text": [
      "There are 4 observations with less than 200 sampling points.\n",
      "There are 13 observations with more than 800 sampling points.\n"
     ]
    }
   ],
   "source": [
    "print(f'There are {np.sum(tracks_len < 200)} observations with less than 200 sampling points.')\n",
    "print(f'There are {np.sum(tracks_len > 800)} observations with more than 800 sampling points.')"
   ]
  },
  {
   "cell_type": "code",
   "execution_count": 10,
   "metadata": {},
   "outputs": [
    {
     "name": "stdout",
     "output_type": "stream",
     "text": [
      "We remove these observations that corresponds to 5.2% of the data.\n"
     ]
    }
   ],
   "source": [
    "print(f'We remove these observations that corresponds to {np.round(100 * (np.sum(tracks_len < 200) + np.sum(tracks_len > 800)) / len(tracks_len), 1)}% of the data.')"
   ]
  },
  {
   "cell_type": "code",
   "execution_count": 11,
   "metadata": {},
   "outputs": [],
   "source": [
    "idx = (tracks_len > 200) & (tracks_len < 800)"
   ]
  },
  {
   "cell_type": "code",
   "execution_count": 12,
   "metadata": {},
   "outputs": [],
   "source": [
    "tracks_sub = [track for is_good, track in zip(idx, tracks_vehicle) if is_good]\n",
    "tracks_sub_len = np.array([len(track['xVelocity']) for track in tracks_sub])"
   ]
  },
  {
   "cell_type": "code",
   "execution_count": 13,
   "metadata": {},
   "outputs": [
    {
     "data": {
      "image/png": "[encoded data removed]",
      "text/plain": [
       "<Figure size 432x288 with 1 Axes>"
      ]
     },
     "metadata": {
      "needs_background": "light"
     },
     "output_type": "display_data"
    }
   ],
   "source": [
    "# Plot the density of the length\n",
    "sns.distplot(tracks_sub_len, bins=50)\n",
    "plt.vlines(200, ymin=0, ymax=0.008, colors='red')\n",
    "plt.vlines(800, ymin=0, ymax=0.008, colors='red')\n",
    "plt.show()"
   ]
  },
  {
   "cell_type": "code",
   "execution_count": 14,
   "metadata": {},
   "outputs": [],
   "source": [
    "# Save the results\n",
    "pd.to_pickle(tracks_sub, f'./data/processed/recording_{RECORDING_NUMBER}/tracks_sub.pkl')"
   ]
  }
 ],
 "metadata": {
  "kernelspec": {
   "display_name": "Python 3",
   "language": "python",
   "name": "python3"
  },
  "language_info": {
   "codemirror_mode": {
    "name": "ipython",
    "version": 3
   },
   "file_extension": ".py",
   "mimetype": "text/x-python",
   "name": "python",
   "nbconvert_exporter": "python",
   "pygments_lexer": "ipython3",
   "version": "3.7.0"
  },
  "varInspector": {
   "cols": {
    "lenName": 16,
    "lenType": 16,
    "lenVar": 40
   },
   "kernels_config": {
    "python": {
     "delete_cmd_postfix": "",
     "delete_cmd_prefix": "del ",
     "library": "var_list.py",
     "varRefreshCmd": "print(var_dic_list())"
    },
    "r": {
     "delete_cmd_postfix": ") ",
     "delete_cmd_prefix": "rm(",
     "library": "var_list.r",
     "varRefreshCmd": "cat(var_dic_list()) "
    }
   },
   "types_to_exclude": [
    "module",
    "function",
    "builtin_function_or_method",
    "instance",
    "_Feature"
   ],
   "window_display": false
  }
 },
 "nbformat": 4,
 "nbformat_minor": 4
}
